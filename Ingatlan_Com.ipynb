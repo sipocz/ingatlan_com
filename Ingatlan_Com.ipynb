{
  "nbformat": 4,
  "nbformat_minor": 0,
  "metadata": {
    "colab": {
      "name": "Ingatlan_Com.ipynb",
      "provenance": [],
      "authorship_tag": "ABX9TyPsXzB/7Y3aApDG05WQjagH",
      "include_colab_link": true
    },
    "kernelspec": {
      "name": "python3",
      "display_name": "Python 3"
    },
    "language_info": {
      "name": "python"
    }
  },
  "cells": [
    {
      "cell_type": "markdown",
      "metadata": {
        "id": "view-in-github",
        "colab_type": "text"
      },
      "source": [
        "<a href=\"https://colab.research.google.com/github/sipocz/ingatlan_com/blob/master/Ingatlan_Com.ipynb\" target=\"_parent\"><img src=\"https://colab.research.google.com/assets/colab-badge.svg\" alt=\"Open In Colab\"/></a>"
      ]
    },
    {
      "cell_type": "code",
      "metadata": {
        "id": "OFqH07uFE1To"
      },
      "source": [
        "import requests\n",
        "from bs4 import  BeautifulSoup"
      ],
      "execution_count": 95,
      "outputs": []
    },
    {
      "cell_type": "code",
      "metadata": {
        "id": "eTLsfstjd93E"
      },
      "source": [
        "def ansicode(sti):\n",
        "    outstr=\"\"\n",
        "    for i in sti:\n",
        "        a=i\n",
        "        if i==\"á\":\n",
        "            a=\"a\"\n",
        "        if i==\"Á\":\n",
        "            a=\"A\"\n",
        "        if i==\"é\":\n",
        "            a=\"e\"\n",
        "        if i==\"É\":\n",
        "            a=\"E\"\n",
        "        if i==\"í\":\n",
        "            a=\"I\"\n",
        "        if i==\"Í\":\n",
        "            a=\"I\"\n",
        "        if i==\"ö\":\n",
        "            a=\"o\"\n",
        "        if i==\"Ö\":\n",
        "            a=\"O\"\n",
        "        if i==\"ő\":\n",
        "            a=\"o\"\n",
        "        if i==\"Ő\":\n",
        "            a=\"O\"\n",
        "        if i==\"ó\":\n",
        "            a=\"o\"\n",
        "        if i==\"Ó\":\n",
        "            a=\"O\"\n",
        "        if i==\"ü\":\n",
        "            a=\"u\"\n",
        "        if i==\"Ü\":\n",
        "            a=\"u\"\n",
        "        if i==\"ú\":\n",
        "            a=\"u\"\n",
        "        if i==\"Ú\":\n",
        "            a=\"u\"\n",
        "        outstr=outstr+a\n",
        "    return(outstr)\n"
      ],
      "execution_count": 96,
      "outputs": []
    },
    {
      "cell_type": "code",
      "metadata": {
        "id": "TXCIr_TeN02d"
      },
      "source": [
        "def ingatlan_com_pages(city):\n",
        "    \n",
        "\n",
        "    header={'User-Agent':\"Mozilla/5.0 (Windows NT 10.0; Win64; x64) AppleWebKit/537.36 (KHTML, like Gecko) Chrome/86.0.4240.75 Safari/537.36\"}\n",
        "    \n",
        "    url=\"https://ingatlan.com/lista/elado+haz+\"+city+\"+ar-szerint-csokkeno?page=1\"\n",
        "    res=requests.get(url,headers=header)\n",
        "    soup=BeautifulSoup(res.text,\"html.parser\")\n",
        "    pages=soup.find_all(\"div\",class_=\"pagination__page-number\")\n",
        "    if len(pages) < 1 :\n",
        "        return(1)\n",
        "    pages_txt=pages[0].text\n",
        "    pages_num=pages_txt.split(\" \")\n",
        "    pages_num_int=int(pages_num[3])\n",
        "    return(pages_num_int)\n"
      ],
      "execution_count": 97,
      "outputs": []
    },
    {
      "cell_type": "code",
      "metadata": {
        "id": "0GsdTBQXCFu4"
      },
      "source": [
        "def ingatlan_com_querycity_page(city,page):\n",
        "    header={'User-Agent':\"Mozilla/5.0 (Windows NT 10.0; Win64; x64) AppleWebKit/537.36 (KHTML, like Gecko) Chrome/86.0.4240.75 Safari/537.36\"}\n",
        "    \n",
        "    \n",
        "   \n",
        "    city=ansicode(city)\n",
        "    url=\"https://ingatlan.com/lista/elado+haz+\"+city+\"+ar-szerint-csokkeno?page=\"+str(page)\n",
        "    #print(url)\n",
        "    res=requests.get(url,headers=header)\n",
        "    soup=BeautifulSoup(res.text,\"html.parser\")\n",
        "    link=soup.select(\".moreDetailsBox > a[href] \")\n",
        "    urllist=soup.find_all(\"a\", class_=\"listing__link\")\n",
        "\n",
        "    price=soup.select(\"span \")\n",
        "    pricelist=soup.find_all(\"div\",class_=\"price\")\n",
        "\n",
        "    #print(urllist)\n",
        "    #print(pricelist)\n",
        "\n",
        "    out1=[]\n",
        "    out2={}\n",
        "    \n",
        "    for i in enumerate(urllist):\n",
        "        link=\"https://ingatlan.com\"+i[1]['href']\n",
        "        #print(f\"+{i[0]:>4}. {pricelist[i[0]].text:>18} :  {link:<1000}\")\n",
        "        #print(i[0],\". \",pricelist[i[0]].text,link)\n",
        "      \n",
        "      \n",
        "        out1.append([pricelist[i[0]].text,link])\n",
        "\n",
        "        #out.append([urllist[i],pricelist[i]])\n",
        "    print(out1)\n",
        "    return (out1)\n"
      ],
      "execution_count": 145,
      "outputs": []
    },
    {
      "cell_type": "code",
      "metadata": {
        "id": "OjPgjRJmEc3s"
      },
      "source": [
        "def ingatlan_com_querycity(city):\n",
        "    ansicity=ansicode(city)\n",
        "    maxpage=ingatlan_com_pages(ansicity)\n",
        "    print(maxpage)\n",
        "    o=[]\n",
        "    for i in range(maxpage):\n",
        "        o+=ingatlan_com_querycity_page(ansicity,i+1)\n",
        "    return(o)"
      ],
      "execution_count": 144,
      "outputs": []
    },
    {
      "cell_type": "code",
      "metadata": {
        "id": "8VoTFaAmpY2s"
      },
      "source": [
        "def createLink(lnk):\n",
        "    return('<a href='+'\"'+lnk+'\"'+\">\"+lnk+\"</a>\" )"
      ],
      "execution_count": 156,
      "outputs": []
    },
    {
      "cell_type": "code",
      "metadata": {
        "colab": {
          "base_uri": "https://localhost:8080/"
        },
        "id": "JAPzvAjEpyMV",
        "outputId": "c992461e-c652-4700-f1a1-55167746921a"
      },
      "source": [
        "print(createLink(\"www.index.hu\"))"
      ],
      "execution_count": 157,
      "outputs": [
        {
          "output_type": "stream",
          "name": "stdout",
          "text": [
            "<a href=\"www.index.hu\">www.index.hu</a>\n"
          ]
        }
      ]
    },
    {
      "cell_type": "code",
      "metadata": {
        "id": "wVrf7Jd-lmud"
      },
      "source": [
        "def createTable(lst,link=1):\n",
        "    o=\"\"\n",
        "    o+=\"<table>\"\n",
        "    for i in range(len(lst)):\n",
        "        o+=\"<tr>\"\n",
        "        for j in range(len(lst[0])):\n",
        "            if j!=link:\n",
        "                o+=\"<td>\"+str(lst[i][j])+\"</td>\"\n",
        "            else:\n",
        "                o+=\"<td>\"+createLink(str(lst[i][j]))+\"</td>\"\n",
        "\n",
        "        o+=\"</tr>\"\n",
        "    o+=\"</table>\"\n",
        "    print(o)\n",
        "    return(o)"
      ],
      "execution_count": 161,
      "outputs": []
    },
    {
      "cell_type": "code",
      "metadata": {
        "colab": {
          "base_uri": "https://localhost:8080/"
        },
        "id": "N1omGHNDddx5",
        "outputId": "b1c8420c-f318-47ba-840d-2cb70080f1e1"
      },
      "source": [
        "city_table_info=ingatlan_com_querycity(\"páty\")"
      ],
      "execution_count": 159,
      "outputs": [
        {
          "output_type": "stream",
          "name": "stdout",
          "text": [
            "5\n",
            "[[' 649 M Ft ', 'https://ingatlan.com/paty/elado+haz/csaladi-haz/31915234'], [' 649 M Ft ', 'https://ingatlan.com/paty/elado+haz/csaladi-haz/32262919'], [' 649 M Ft ', 'https://ingatlan.com/paty/elado+haz/csaladi-haz/32250026'], [' 649 M Ft ', 'https://ingatlan.com/paty/elado+haz/csaladi-haz/32031519'], [' 649 M Ft ', 'https://ingatlan.com/paty/elado+haz/csaladi-haz/32126298'], [' 649 M Ft ', 'https://ingatlan.com/paty/elado+haz/csaladi-haz/32419994'], [' 649 M Ft ', 'https://ingatlan.com/paty/elado+haz/csaladi-haz/32420062'], [' 649 M Ft ', 'https://ingatlan.com/paty/elado+haz/csaladi-haz/32355396'], [' 649 M Ft ', 'https://ingatlan.com/paty/elado+haz/csaladi-haz/32331615'], [' 649 M Ft ', 'https://ingatlan.com/paty/elado+haz/csaladi-haz/32237153'], [' 380 M Ft ', 'https://ingatlan.com/paty/elado+haz/csaladi-haz/32252752'], [' 380 M Ft ', 'https://ingatlan.com/paty/elado+haz/csaladi-haz/32144631'], [' 299 M Ft ', 'https://ingatlan.com/paty/elado+haz/csaladi-haz/32177929'], [' 294.9 M Ft ', 'https://ingatlan.com/paty/elado+haz/csaladi-haz/32275405'], [' 169 M Ft ', 'https://ingatlan.com/paty/elado+haz/csaladi-haz/32314830'], [' 144 M Ft ', 'https://ingatlan.com/paty/elado+haz/csaladi-haz/26358743'], [' 135 M Ft ', 'https://ingatlan.com/paty/elado+haz/csaladi-haz/32111735'], [' 135 M Ft ', 'https://ingatlan.com/paty-kortes-lakopark/elado+haz/csaladi-haz/31709641'], [' 134.99 M Ft ', 'https://ingatlan.com/paty/elado+haz/csaladi-haz/32092611'], [' 129 M Ft ', 'https://ingatlan.com/paty/elado+haz/csaladi-haz/32076383']]\n",
            "[[' 120 M Ft ', 'https://ingatlan.com/paty/elado+haz/ikerhaz/29015996'], [' 118.9 M Ft ', 'https://ingatlan.com/paty/elado+haz/csaladi-haz/31797199'], [' 118.9 M Ft ', 'https://ingatlan.com/paty-ofalu/elado+haz/csaladi-haz/32393095'], [' 118.9 M Ft ', 'https://ingatlan.com/paty-ofalu/elado+haz/csaladi-haz/32393094'], [' 118.9 M Ft ', 'https://ingatlan.com/paty/elado+haz/csaladi-haz/32232087'], [' 118.9 M Ft ', 'https://ingatlan.com/paty-kozpont/elado+haz/csaladi-haz/31760766'], [' 99.9 M Ft ', 'https://ingatlan.com/paty/elado+haz/ikerhaz/32379578'], [' 99.9 M Ft ', 'https://ingatlan.com/paty/elado+haz/ikerhaz/32198449'], [' 99.9 M Ft ', 'https://ingatlan.com/paty-orgonas-lakopark/elado+haz/ikerhaz/32328284'], [' 99.9 M Ft ', 'https://ingatlan.com/paty/elado+haz/ikerhaz/32324966'], [' 99 M Ft ', 'https://ingatlan.com/paty/elado+haz/ikerhaz/32211116'], [' 99 M Ft ', 'https://ingatlan.com/paty/elado+haz/ikerhaz/32257825'], [' 98 M Ft ', 'https://ingatlan.com/paty/elado+haz/ikerhaz/32387422'], [' 92.9 M Ft ', 'https://ingatlan.com/paty/elado+haz/csaladi-haz/32313429'], [' 92.9 M Ft ', 'https://ingatlan.com/paty/elado+haz/csaladi-haz/32435314'], [' 90 M Ft ', 'https://ingatlan.com/paty/elado+haz/csaladi-haz/32212574'], [' 89.94 M Ft ', 'https://ingatlan.com/paty-kozpont/elado+haz/csaladi-haz/32416332'], [' 89.9 M Ft ', 'https://ingatlan.com/paty/elado+haz/ikerhaz/31825580'], [' 89.9 M Ft ', 'https://ingatlan.com/paty-orgonas-lakopark/elado+haz/csaladi-haz/32412447'], [' 89 M Ft ', 'https://ingatlan.com/paty/elado+haz/csaladi-haz/32430637']]\n",
            "[[' 89 M Ft ', 'https://ingatlan.com/paty/elado+haz/csaladi-haz/20284387'], [' 89 M Ft ', 'https://ingatlan.com/paty/elado+haz/csaladi-haz/32426257'], [' 86.9 M Ft ', 'https://ingatlan.com/paty/elado+haz/ikerhaz/32375998'], [' 85.14 M Ft ', 'https://ingatlan.com/paty-kozpont/elado+haz/csaladi-haz/32411716'], [' 82 M Ft ', 'https://ingatlan.com/paty/elado+haz/csaladi-haz/31924315'], [' 82 M Ft ', 'https://ingatlan.com/paty/elado+haz/csaladi-haz/31837813'], [' 81.6 M Ft ', 'https://ingatlan.com/paty/elado+haz/ikerhaz/25756292'], [' 80 M Ft ', 'https://ingatlan.com/paty/elado+haz/csaladi-haz/32295110'], [' 79.9 M Ft ', 'https://ingatlan.com/paty/elado+haz/csaladi-haz/32368486'], [' 79.9 M Ft ', 'https://ingatlan.com/paty-kozpont/elado+haz/csaladi-haz/31534035'], [' 79 M Ft ', 'https://ingatlan.com/paty/elado+haz/ikerhaz/32435316'], [' 78 M Ft ', 'https://ingatlan.com/paty-kozpont/elado+haz/ikerhaz/32420895'], [' 78 M Ft ', 'https://ingatlan.com/paty/elado+haz/sorhaz/32331771'], [' 76.9 M Ft ', 'https://ingatlan.com/paty/elado+haz/ikerhaz/32372333'], [' 75.05 M Ft ', 'https://ingatlan.com/paty-kozpont/elado+haz/csaladi-haz/32416699'], [' 74.9 M Ft ', 'https://ingatlan.com/paty-jeneidomb/elado+haz/ikerhaz/32271467'], [' 74.5 M Ft ', 'https://ingatlan.com/paty-kozpont/elado+haz/csaladi-haz/32120274'], [' 66.2 M Ft ', 'https://ingatlan.com/paty/elado+haz/csaladi-haz/32414774'], [' 66.2 M Ft ', 'https://ingatlan.com/paty/elado+haz/csaladi-haz/32414615'], [' 66.2 M Ft ', 'https://ingatlan.com/paty/elado+haz/csaladi-haz/32413666']]\n",
            "[[' 66.2 M Ft ', 'https://ingatlan.com/paty/elado+haz/csaladi-haz/32413241'], [' 65.9 M Ft ', 'https://ingatlan.com/paty/elado+haz/csaladi-haz/32404430'], [' 64.9 M Ft ', 'https://ingatlan.com/paty/elado+haz/csaladi-haz/32339546'], [' 61.9 M Ft ', 'https://ingatlan.com/paty/elado+haz/ikerhaz/32095043'], [' 59.5 M Ft ', 'https://ingatlan.com/paty/elado+haz/csaladi-haz/32173188'], [' 59.5 M Ft ', 'https://ingatlan.com/paty/elado+haz/csaladi-haz/32203470'], [' 59.5 M Ft ', 'https://ingatlan.com/paty/elado+haz/hazresz/32084317'], [' 51.9 M Ft ', 'https://ingatlan.com/paty/elado+haz/csaladi-haz/32314976'], [' 49.5 M Ft ', 'https://ingatlan.com/paty/elado+haz/csaladi-haz/32360344'], [' 49.5 M Ft ', 'https://ingatlan.com/paty-zsambeki-kanyar/elado+haz/csaladi-haz/32128756'], [' 49.5 M Ft ', 'https://ingatlan.com/paty/elado+haz/csaladi-haz/32131158'], [' 49.5 M Ft ', 'https://ingatlan.com/paty-kozpont/elado+haz/csaladi-haz/32217066'], [' 49.5 M Ft ', 'https://ingatlan.com/paty-kozpont/elado+haz/csaladi-haz/32422423'], [' 49.5 M Ft ', 'https://ingatlan.com/paty/elado+haz/csaladi-haz/32281499'], [' 49.5 M Ft ', 'https://ingatlan.com/paty-kozpont/elado+haz/csaladi-haz/32232200'], [' 49.5 M Ft ', 'https://ingatlan.com/paty-ofalu/elado+haz/csaladi-haz/32129087'], [' 49.5 M Ft ', 'https://ingatlan.com/paty-ofalu/elado+haz/csaladi-haz/32129085'], [' 49 M Ft ', 'https://ingatlan.com/paty/elado+haz/csaladi-haz/32388852'], [' 46 M Ft ', 'https://ingatlan.com/paty/elado+haz/ikerhaz/31946503'], [' 44.5 M Ft ', 'https://ingatlan.com/paty/elado+haz/csaladi-haz/32308751']]\n",
            "[[' 34.9 M Ft ', 'https://ingatlan.com/paty-kozpont/elado+haz/csaladi-haz/32064223'], [' 32.9 M Ft ', 'https://ingatlan.com/paty-mezeshegy/elado+haz/csaladi-haz/32257860'], [' 27.9 M Ft ', 'https://ingatlan.com/paty-kozpont/elado+haz/csaladi-haz/32305768'], [' 26.5 M Ft ', 'https://ingatlan.com/paty/elado+haz/csaladi-haz/32229955'], [' 17 M Ft ', 'https://ingatlan.com/paty/elado+haz/konnyuszerkezetes-haz/32356164'], [' 15 M Ft ', 'https://ingatlan.com/paty/elado+haz/csaladi-haz/26995204'], [' 13 M Ft ', 'https://ingatlan.com/paty/elado+haz/csaladi-haz/27265624']]\n"
          ]
        }
      ]
    },
    {
      "cell_type": "code",
      "metadata": {
        "colab": {
          "base_uri": "https://localhost:8080/"
        },
        "id": "UAuGckb7n8tb",
        "outputId": "6389f970-338c-4aec-f8c8-b90183be7641"
      },
      "source": [
        "print(city_table_info)"
      ],
      "execution_count": 148,
      "outputs": [
        {
          "output_type": "stream",
          "name": "stdout",
          "text": [
            "[[' 649 M Ft ', 'https://ingatlan.com/paty/elado+haz/csaladi-haz/31915234'], [' 649 M Ft ', 'https://ingatlan.com/paty/elado+haz/csaladi-haz/32262919'], [' 649 M Ft ', 'https://ingatlan.com/paty/elado+haz/csaladi-haz/32250026'], [' 649 M Ft ', 'https://ingatlan.com/paty/elado+haz/csaladi-haz/32031519'], [' 649 M Ft ', 'https://ingatlan.com/paty/elado+haz/csaladi-haz/32126298'], [' 649 M Ft ', 'https://ingatlan.com/paty/elado+haz/csaladi-haz/32419994'], [' 649 M Ft ', 'https://ingatlan.com/paty/elado+haz/csaladi-haz/32420062'], [' 649 M Ft ', 'https://ingatlan.com/paty/elado+haz/csaladi-haz/32355396'], [' 649 M Ft ', 'https://ingatlan.com/paty/elado+haz/csaladi-haz/32331615'], [' 649 M Ft ', 'https://ingatlan.com/paty/elado+haz/csaladi-haz/32237153'], [' 380 M Ft ', 'https://ingatlan.com/paty/elado+haz/csaladi-haz/32252752'], [' 380 M Ft ', 'https://ingatlan.com/paty/elado+haz/csaladi-haz/32144631'], [' 299 M Ft ', 'https://ingatlan.com/paty/elado+haz/csaladi-haz/32177929'], [' 294.9 M Ft ', 'https://ingatlan.com/paty/elado+haz/csaladi-haz/32275405'], [' 169 M Ft ', 'https://ingatlan.com/paty/elado+haz/csaladi-haz/32314830'], [' 144 M Ft ', 'https://ingatlan.com/paty/elado+haz/csaladi-haz/26358743'], [' 135 M Ft ', 'https://ingatlan.com/paty/elado+haz/csaladi-haz/32111735'], [' 135 M Ft ', 'https://ingatlan.com/paty-kortes-lakopark/elado+haz/csaladi-haz/31709641'], [' 134.99 M Ft ', 'https://ingatlan.com/paty/elado+haz/csaladi-haz/32092611'], [' 129 M Ft ', 'https://ingatlan.com/paty/elado+haz/csaladi-haz/32076383'], [' 120 M Ft ', 'https://ingatlan.com/paty/elado+haz/ikerhaz/29015996'], [' 118.9 M Ft ', 'https://ingatlan.com/paty/elado+haz/csaladi-haz/31797199'], [' 118.9 M Ft ', 'https://ingatlan.com/paty-ofalu/elado+haz/csaladi-haz/32393095'], [' 118.9 M Ft ', 'https://ingatlan.com/paty-ofalu/elado+haz/csaladi-haz/32393094'], [' 118.9 M Ft ', 'https://ingatlan.com/paty/elado+haz/csaladi-haz/32232087'], [' 118.9 M Ft ', 'https://ingatlan.com/paty-kozpont/elado+haz/csaladi-haz/31760766'], [' 99.9 M Ft ', 'https://ingatlan.com/paty/elado+haz/ikerhaz/32379578'], [' 99.9 M Ft ', 'https://ingatlan.com/paty/elado+haz/ikerhaz/32198449'], [' 99.9 M Ft ', 'https://ingatlan.com/paty-orgonas-lakopark/elado+haz/ikerhaz/32328284'], [' 99.9 M Ft ', 'https://ingatlan.com/paty/elado+haz/ikerhaz/32324966'], [' 99 M Ft ', 'https://ingatlan.com/paty/elado+haz/ikerhaz/32211116'], [' 99 M Ft ', 'https://ingatlan.com/paty/elado+haz/ikerhaz/32257825'], [' 98 M Ft ', 'https://ingatlan.com/paty/elado+haz/ikerhaz/32387422'], [' 92.9 M Ft ', 'https://ingatlan.com/paty/elado+haz/csaladi-haz/32313429'], [' 92.9 M Ft ', 'https://ingatlan.com/paty/elado+haz/csaladi-haz/32435314'], [' 90 M Ft ', 'https://ingatlan.com/paty/elado+haz/csaladi-haz/32212574'], [' 89.94 M Ft ', 'https://ingatlan.com/paty-kozpont/elado+haz/csaladi-haz/32416332'], [' 89.9 M Ft ', 'https://ingatlan.com/paty/elado+haz/ikerhaz/31825580'], [' 89.9 M Ft ', 'https://ingatlan.com/paty-orgonas-lakopark/elado+haz/csaladi-haz/32412447'], [' 89 M Ft ', 'https://ingatlan.com/paty/elado+haz/csaladi-haz/32430637'], [' 89 M Ft ', 'https://ingatlan.com/paty/elado+haz/csaladi-haz/20284387'], [' 89 M Ft ', 'https://ingatlan.com/paty/elado+haz/csaladi-haz/32426257'], [' 86.9 M Ft ', 'https://ingatlan.com/paty/elado+haz/ikerhaz/32375998'], [' 85.14 M Ft ', 'https://ingatlan.com/paty-kozpont/elado+haz/csaladi-haz/32411716'], [' 82 M Ft ', 'https://ingatlan.com/paty/elado+haz/csaladi-haz/31924315'], [' 82 M Ft ', 'https://ingatlan.com/paty/elado+haz/csaladi-haz/31837813'], [' 81.6 M Ft ', 'https://ingatlan.com/paty/elado+haz/ikerhaz/25756292'], [' 80 M Ft ', 'https://ingatlan.com/paty/elado+haz/csaladi-haz/32295110'], [' 79.9 M Ft ', 'https://ingatlan.com/paty/elado+haz/csaladi-haz/32368486'], [' 79.9 M Ft ', 'https://ingatlan.com/paty-kozpont/elado+haz/csaladi-haz/31534035'], [' 79 M Ft ', 'https://ingatlan.com/paty/elado+haz/ikerhaz/32435316'], [' 78 M Ft ', 'https://ingatlan.com/paty-kozpont/elado+haz/ikerhaz/32420895'], [' 78 M Ft ', 'https://ingatlan.com/paty/elado+haz/sorhaz/32331771'], [' 76.9 M Ft ', 'https://ingatlan.com/paty/elado+haz/ikerhaz/32372333'], [' 75.05 M Ft ', 'https://ingatlan.com/paty-kozpont/elado+haz/csaladi-haz/32416699'], [' 74.9 M Ft ', 'https://ingatlan.com/paty-jeneidomb/elado+haz/ikerhaz/32271467'], [' 74.5 M Ft ', 'https://ingatlan.com/paty-kozpont/elado+haz/csaladi-haz/32120274'], [' 66.2 M Ft ', 'https://ingatlan.com/paty/elado+haz/csaladi-haz/32414774'], [' 66.2 M Ft ', 'https://ingatlan.com/paty/elado+haz/csaladi-haz/32414615'], [' 66.2 M Ft ', 'https://ingatlan.com/paty/elado+haz/csaladi-haz/32413666'], [' 66.2 M Ft ', 'https://ingatlan.com/paty/elado+haz/csaladi-haz/32413241'], [' 65.9 M Ft ', 'https://ingatlan.com/paty/elado+haz/csaladi-haz/32404430'], [' 64.9 M Ft ', 'https://ingatlan.com/paty/elado+haz/csaladi-haz/32339546'], [' 61.9 M Ft ', 'https://ingatlan.com/paty/elado+haz/ikerhaz/32095043'], [' 59.5 M Ft ', 'https://ingatlan.com/paty/elado+haz/csaladi-haz/32173188'], [' 59.5 M Ft ', 'https://ingatlan.com/paty/elado+haz/csaladi-haz/32203470'], [' 59.5 M Ft ', 'https://ingatlan.com/paty/elado+haz/hazresz/32084317'], [' 51.9 M Ft ', 'https://ingatlan.com/paty/elado+haz/csaladi-haz/32314976'], [' 49.5 M Ft ', 'https://ingatlan.com/paty/elado+haz/csaladi-haz/32360344'], [' 49.5 M Ft ', 'https://ingatlan.com/paty-zsambeki-kanyar/elado+haz/csaladi-haz/32128756'], [' 49.5 M Ft ', 'https://ingatlan.com/paty/elado+haz/csaladi-haz/32131158'], [' 49.5 M Ft ', 'https://ingatlan.com/paty-kozpont/elado+haz/csaladi-haz/32217066'], [' 49.5 M Ft ', 'https://ingatlan.com/paty-kozpont/elado+haz/csaladi-haz/32422423'], [' 49.5 M Ft ', 'https://ingatlan.com/paty/elado+haz/csaladi-haz/32281499'], [' 49.5 M Ft ', 'https://ingatlan.com/paty-kozpont/elado+haz/csaladi-haz/32232200'], [' 49.5 M Ft ', 'https://ingatlan.com/paty-ofalu/elado+haz/csaladi-haz/32129087'], [' 49.5 M Ft ', 'https://ingatlan.com/paty-ofalu/elado+haz/csaladi-haz/32129085'], [' 49 M Ft ', 'https://ingatlan.com/paty/elado+haz/csaladi-haz/32388852'], [' 46 M Ft ', 'https://ingatlan.com/paty/elado+haz/ikerhaz/31946503'], [' 44.5 M Ft ', 'https://ingatlan.com/paty/elado+haz/csaladi-haz/32308751'], [' 34.9 M Ft ', 'https://ingatlan.com/paty-kozpont/elado+haz/csaladi-haz/32064223'], [' 32.9 M Ft ', 'https://ingatlan.com/paty-mezeshegy/elado+haz/csaladi-haz/32257860'], [' 27.9 M Ft ', 'https://ingatlan.com/paty-kozpont/elado+haz/csaladi-haz/32305768'], [' 26.5 M Ft ', 'https://ingatlan.com/paty/elado+haz/csaladi-haz/32229955'], [' 17 M Ft ', 'https://ingatlan.com/paty/elado+haz/konnyuszerkezetes-haz/32356164'], [' 15 M Ft ', 'https://ingatlan.com/paty/elado+haz/csaladi-haz/26995204'], [' 13 M Ft ', 'https://ingatlan.com/paty/elado+haz/csaladi-haz/27265624']]\n"
          ]
        }
      ]
    },
    {
      "cell_type": "code",
      "metadata": {
        "colab": {
          "base_uri": "https://localhost:8080/"
        },
        "id": "zFdE06YOmVe5",
        "outputId": "63e2f492-7dd5-4552-9917-3105bb4b6473"
      },
      "source": [
        "o=[[1,2],[3,2]]\n",
        "ingatlan_com_table=createTable(city_table_info)"
      ],
      "execution_count": 171,
      "outputs": [
        {
          "output_type": "stream",
          "name": "stdout",
          "text": [
            "<table><tr><td> 649 M Ft </td><td><a href=\"https://ingatlan.com/paty/elado+haz/csaladi-haz/31915234\">https://ingatlan.com/paty/elado+haz/csaladi-haz/31915234</a></td></tr><tr><td> 649 M Ft </td><td><a href=\"https://ingatlan.com/paty/elado+haz/csaladi-haz/32262919\">https://ingatlan.com/paty/elado+haz/csaladi-haz/32262919</a></td></tr><tr><td> 649 M Ft </td><td><a href=\"https://ingatlan.com/paty/elado+haz/csaladi-haz/32250026\">https://ingatlan.com/paty/elado+haz/csaladi-haz/32250026</a></td></tr><tr><td> 649 M Ft </td><td><a href=\"https://ingatlan.com/paty/elado+haz/csaladi-haz/32031519\">https://ingatlan.com/paty/elado+haz/csaladi-haz/32031519</a></td></tr><tr><td> 649 M Ft </td><td><a href=\"https://ingatlan.com/paty/elado+haz/csaladi-haz/32126298\">https://ingatlan.com/paty/elado+haz/csaladi-haz/32126298</a></td></tr><tr><td> 649 M Ft </td><td><a href=\"https://ingatlan.com/paty/elado+haz/csaladi-haz/32419994\">https://ingatlan.com/paty/elado+haz/csaladi-haz/32419994</a></td></tr><tr><td> 649 M Ft </td><td><a href=\"https://ingatlan.com/paty/elado+haz/csaladi-haz/32420062\">https://ingatlan.com/paty/elado+haz/csaladi-haz/32420062</a></td></tr><tr><td> 649 M Ft </td><td><a href=\"https://ingatlan.com/paty/elado+haz/csaladi-haz/32355396\">https://ingatlan.com/paty/elado+haz/csaladi-haz/32355396</a></td></tr><tr><td> 649 M Ft </td><td><a href=\"https://ingatlan.com/paty/elado+haz/csaladi-haz/32331615\">https://ingatlan.com/paty/elado+haz/csaladi-haz/32331615</a></td></tr><tr><td> 649 M Ft </td><td><a href=\"https://ingatlan.com/paty/elado+haz/csaladi-haz/32237153\">https://ingatlan.com/paty/elado+haz/csaladi-haz/32237153</a></td></tr><tr><td> 380 M Ft </td><td><a href=\"https://ingatlan.com/paty/elado+haz/csaladi-haz/32252752\">https://ingatlan.com/paty/elado+haz/csaladi-haz/32252752</a></td></tr><tr><td> 380 M Ft </td><td><a href=\"https://ingatlan.com/paty/elado+haz/csaladi-haz/32144631\">https://ingatlan.com/paty/elado+haz/csaladi-haz/32144631</a></td></tr><tr><td> 299 M Ft </td><td><a href=\"https://ingatlan.com/paty/elado+haz/csaladi-haz/32177929\">https://ingatlan.com/paty/elado+haz/csaladi-haz/32177929</a></td></tr><tr><td> 294.9 M Ft </td><td><a href=\"https://ingatlan.com/paty/elado+haz/csaladi-haz/32275405\">https://ingatlan.com/paty/elado+haz/csaladi-haz/32275405</a></td></tr><tr><td> 169 M Ft </td><td><a href=\"https://ingatlan.com/paty/elado+haz/csaladi-haz/32314830\">https://ingatlan.com/paty/elado+haz/csaladi-haz/32314830</a></td></tr><tr><td> 144 M Ft </td><td><a href=\"https://ingatlan.com/paty/elado+haz/csaladi-haz/26358743\">https://ingatlan.com/paty/elado+haz/csaladi-haz/26358743</a></td></tr><tr><td> 135 M Ft </td><td><a href=\"https://ingatlan.com/paty/elado+haz/csaladi-haz/32111735\">https://ingatlan.com/paty/elado+haz/csaladi-haz/32111735</a></td></tr><tr><td> 135 M Ft </td><td><a href=\"https://ingatlan.com/paty-kortes-lakopark/elado+haz/csaladi-haz/31709641\">https://ingatlan.com/paty-kortes-lakopark/elado+haz/csaladi-haz/31709641</a></td></tr><tr><td> 134.99 M Ft </td><td><a href=\"https://ingatlan.com/paty/elado+haz/csaladi-haz/32092611\">https://ingatlan.com/paty/elado+haz/csaladi-haz/32092611</a></td></tr><tr><td> 129 M Ft </td><td><a href=\"https://ingatlan.com/paty/elado+haz/csaladi-haz/32076383\">https://ingatlan.com/paty/elado+haz/csaladi-haz/32076383</a></td></tr><tr><td> 120 M Ft </td><td><a href=\"https://ingatlan.com/paty/elado+haz/ikerhaz/29015996\">https://ingatlan.com/paty/elado+haz/ikerhaz/29015996</a></td></tr><tr><td> 118.9 M Ft </td><td><a href=\"https://ingatlan.com/paty/elado+haz/csaladi-haz/31797199\">https://ingatlan.com/paty/elado+haz/csaladi-haz/31797199</a></td></tr><tr><td> 118.9 M Ft </td><td><a href=\"https://ingatlan.com/paty-ofalu/elado+haz/csaladi-haz/32393095\">https://ingatlan.com/paty-ofalu/elado+haz/csaladi-haz/32393095</a></td></tr><tr><td> 118.9 M Ft </td><td><a href=\"https://ingatlan.com/paty-ofalu/elado+haz/csaladi-haz/32393094\">https://ingatlan.com/paty-ofalu/elado+haz/csaladi-haz/32393094</a></td></tr><tr><td> 118.9 M Ft </td><td><a href=\"https://ingatlan.com/paty/elado+haz/csaladi-haz/32232087\">https://ingatlan.com/paty/elado+haz/csaladi-haz/32232087</a></td></tr><tr><td> 118.9 M Ft </td><td><a href=\"https://ingatlan.com/paty-kozpont/elado+haz/csaladi-haz/31760766\">https://ingatlan.com/paty-kozpont/elado+haz/csaladi-haz/31760766</a></td></tr><tr><td> 99.9 M Ft </td><td><a href=\"https://ingatlan.com/paty/elado+haz/ikerhaz/32379578\">https://ingatlan.com/paty/elado+haz/ikerhaz/32379578</a></td></tr><tr><td> 99.9 M Ft </td><td><a href=\"https://ingatlan.com/paty/elado+haz/ikerhaz/32198449\">https://ingatlan.com/paty/elado+haz/ikerhaz/32198449</a></td></tr><tr><td> 99.9 M Ft </td><td><a href=\"https://ingatlan.com/paty-orgonas-lakopark/elado+haz/ikerhaz/32328284\">https://ingatlan.com/paty-orgonas-lakopark/elado+haz/ikerhaz/32328284</a></td></tr><tr><td> 99.9 M Ft </td><td><a href=\"https://ingatlan.com/paty/elado+haz/ikerhaz/32324966\">https://ingatlan.com/paty/elado+haz/ikerhaz/32324966</a></td></tr><tr><td> 99 M Ft </td><td><a href=\"https://ingatlan.com/paty/elado+haz/ikerhaz/32211116\">https://ingatlan.com/paty/elado+haz/ikerhaz/32211116</a></td></tr><tr><td> 99 M Ft </td><td><a href=\"https://ingatlan.com/paty/elado+haz/ikerhaz/32257825\">https://ingatlan.com/paty/elado+haz/ikerhaz/32257825</a></td></tr><tr><td> 98 M Ft </td><td><a href=\"https://ingatlan.com/paty/elado+haz/ikerhaz/32387422\">https://ingatlan.com/paty/elado+haz/ikerhaz/32387422</a></td></tr><tr><td> 92.9 M Ft </td><td><a href=\"https://ingatlan.com/paty/elado+haz/csaladi-haz/32313429\">https://ingatlan.com/paty/elado+haz/csaladi-haz/32313429</a></td></tr><tr><td> 92.9 M Ft </td><td><a href=\"https://ingatlan.com/paty/elado+haz/csaladi-haz/32435314\">https://ingatlan.com/paty/elado+haz/csaladi-haz/32435314</a></td></tr><tr><td> 90 M Ft </td><td><a href=\"https://ingatlan.com/paty/elado+haz/csaladi-haz/32212574\">https://ingatlan.com/paty/elado+haz/csaladi-haz/32212574</a></td></tr><tr><td> 89.94 M Ft </td><td><a href=\"https://ingatlan.com/paty-kozpont/elado+haz/csaladi-haz/32416332\">https://ingatlan.com/paty-kozpont/elado+haz/csaladi-haz/32416332</a></td></tr><tr><td> 89.9 M Ft </td><td><a href=\"https://ingatlan.com/paty/elado+haz/ikerhaz/31825580\">https://ingatlan.com/paty/elado+haz/ikerhaz/31825580</a></td></tr><tr><td> 89.9 M Ft </td><td><a href=\"https://ingatlan.com/paty-orgonas-lakopark/elado+haz/csaladi-haz/32412447\">https://ingatlan.com/paty-orgonas-lakopark/elado+haz/csaladi-haz/32412447</a></td></tr><tr><td> 89 M Ft </td><td><a href=\"https://ingatlan.com/paty/elado+haz/csaladi-haz/32430637\">https://ingatlan.com/paty/elado+haz/csaladi-haz/32430637</a></td></tr><tr><td> 89 M Ft </td><td><a href=\"https://ingatlan.com/paty/elado+haz/csaladi-haz/20284387\">https://ingatlan.com/paty/elado+haz/csaladi-haz/20284387</a></td></tr><tr><td> 89 M Ft </td><td><a href=\"https://ingatlan.com/paty/elado+haz/csaladi-haz/32426257\">https://ingatlan.com/paty/elado+haz/csaladi-haz/32426257</a></td></tr><tr><td> 86.9 M Ft </td><td><a href=\"https://ingatlan.com/paty/elado+haz/ikerhaz/32375998\">https://ingatlan.com/paty/elado+haz/ikerhaz/32375998</a></td></tr><tr><td> 85.14 M Ft </td><td><a href=\"https://ingatlan.com/paty-kozpont/elado+haz/csaladi-haz/32411716\">https://ingatlan.com/paty-kozpont/elado+haz/csaladi-haz/32411716</a></td></tr><tr><td> 82 M Ft </td><td><a href=\"https://ingatlan.com/paty/elado+haz/csaladi-haz/31924315\">https://ingatlan.com/paty/elado+haz/csaladi-haz/31924315</a></td></tr><tr><td> 82 M Ft </td><td><a href=\"https://ingatlan.com/paty/elado+haz/csaladi-haz/31837813\">https://ingatlan.com/paty/elado+haz/csaladi-haz/31837813</a></td></tr><tr><td> 81.6 M Ft </td><td><a href=\"https://ingatlan.com/paty/elado+haz/ikerhaz/25756292\">https://ingatlan.com/paty/elado+haz/ikerhaz/25756292</a></td></tr><tr><td> 80 M Ft </td><td><a href=\"https://ingatlan.com/paty/elado+haz/csaladi-haz/32295110\">https://ingatlan.com/paty/elado+haz/csaladi-haz/32295110</a></td></tr><tr><td> 79.9 M Ft </td><td><a href=\"https://ingatlan.com/paty/elado+haz/csaladi-haz/32368486\">https://ingatlan.com/paty/elado+haz/csaladi-haz/32368486</a></td></tr><tr><td> 79.9 M Ft </td><td><a href=\"https://ingatlan.com/paty-kozpont/elado+haz/csaladi-haz/31534035\">https://ingatlan.com/paty-kozpont/elado+haz/csaladi-haz/31534035</a></td></tr><tr><td> 79 M Ft </td><td><a href=\"https://ingatlan.com/paty/elado+haz/ikerhaz/32435316\">https://ingatlan.com/paty/elado+haz/ikerhaz/32435316</a></td></tr><tr><td> 78 M Ft </td><td><a href=\"https://ingatlan.com/paty-kozpont/elado+haz/ikerhaz/32420895\">https://ingatlan.com/paty-kozpont/elado+haz/ikerhaz/32420895</a></td></tr><tr><td> 78 M Ft </td><td><a href=\"https://ingatlan.com/paty/elado+haz/sorhaz/32331771\">https://ingatlan.com/paty/elado+haz/sorhaz/32331771</a></td></tr><tr><td> 76.9 M Ft </td><td><a href=\"https://ingatlan.com/paty/elado+haz/ikerhaz/32372333\">https://ingatlan.com/paty/elado+haz/ikerhaz/32372333</a></td></tr><tr><td> 75.05 M Ft </td><td><a href=\"https://ingatlan.com/paty-kozpont/elado+haz/csaladi-haz/32416699\">https://ingatlan.com/paty-kozpont/elado+haz/csaladi-haz/32416699</a></td></tr><tr><td> 74.9 M Ft </td><td><a href=\"https://ingatlan.com/paty-jeneidomb/elado+haz/ikerhaz/32271467\">https://ingatlan.com/paty-jeneidomb/elado+haz/ikerhaz/32271467</a></td></tr><tr><td> 74.5 M Ft </td><td><a href=\"https://ingatlan.com/paty-kozpont/elado+haz/csaladi-haz/32120274\">https://ingatlan.com/paty-kozpont/elado+haz/csaladi-haz/32120274</a></td></tr><tr><td> 66.2 M Ft </td><td><a href=\"https://ingatlan.com/paty/elado+haz/csaladi-haz/32414774\">https://ingatlan.com/paty/elado+haz/csaladi-haz/32414774</a></td></tr><tr><td> 66.2 M Ft </td><td><a href=\"https://ingatlan.com/paty/elado+haz/csaladi-haz/32414615\">https://ingatlan.com/paty/elado+haz/csaladi-haz/32414615</a></td></tr><tr><td> 66.2 M Ft </td><td><a href=\"https://ingatlan.com/paty/elado+haz/csaladi-haz/32413666\">https://ingatlan.com/paty/elado+haz/csaladi-haz/32413666</a></td></tr><tr><td> 66.2 M Ft </td><td><a href=\"https://ingatlan.com/paty/elado+haz/csaladi-haz/32413241\">https://ingatlan.com/paty/elado+haz/csaladi-haz/32413241</a></td></tr><tr><td> 65.9 M Ft </td><td><a href=\"https://ingatlan.com/paty/elado+haz/csaladi-haz/32404430\">https://ingatlan.com/paty/elado+haz/csaladi-haz/32404430</a></td></tr><tr><td> 64.9 M Ft </td><td><a href=\"https://ingatlan.com/paty/elado+haz/csaladi-haz/32339546\">https://ingatlan.com/paty/elado+haz/csaladi-haz/32339546</a></td></tr><tr><td> 61.9 M Ft </td><td><a href=\"https://ingatlan.com/paty/elado+haz/ikerhaz/32095043\">https://ingatlan.com/paty/elado+haz/ikerhaz/32095043</a></td></tr><tr><td> 59.5 M Ft </td><td><a href=\"https://ingatlan.com/paty/elado+haz/csaladi-haz/32173188\">https://ingatlan.com/paty/elado+haz/csaladi-haz/32173188</a></td></tr><tr><td> 59.5 M Ft </td><td><a href=\"https://ingatlan.com/paty/elado+haz/csaladi-haz/32203470\">https://ingatlan.com/paty/elado+haz/csaladi-haz/32203470</a></td></tr><tr><td> 59.5 M Ft </td><td><a href=\"https://ingatlan.com/paty/elado+haz/hazresz/32084317\">https://ingatlan.com/paty/elado+haz/hazresz/32084317</a></td></tr><tr><td> 51.9 M Ft </td><td><a href=\"https://ingatlan.com/paty/elado+haz/csaladi-haz/32314976\">https://ingatlan.com/paty/elado+haz/csaladi-haz/32314976</a></td></tr><tr><td> 49.5 M Ft </td><td><a href=\"https://ingatlan.com/paty/elado+haz/csaladi-haz/32360344\">https://ingatlan.com/paty/elado+haz/csaladi-haz/32360344</a></td></tr><tr><td> 49.5 M Ft </td><td><a href=\"https://ingatlan.com/paty-zsambeki-kanyar/elado+haz/csaladi-haz/32128756\">https://ingatlan.com/paty-zsambeki-kanyar/elado+haz/csaladi-haz/32128756</a></td></tr><tr><td> 49.5 M Ft </td><td><a href=\"https://ingatlan.com/paty/elado+haz/csaladi-haz/32131158\">https://ingatlan.com/paty/elado+haz/csaladi-haz/32131158</a></td></tr><tr><td> 49.5 M Ft </td><td><a href=\"https://ingatlan.com/paty-kozpont/elado+haz/csaladi-haz/32217066\">https://ingatlan.com/paty-kozpont/elado+haz/csaladi-haz/32217066</a></td></tr><tr><td> 49.5 M Ft </td><td><a href=\"https://ingatlan.com/paty-kozpont/elado+haz/csaladi-haz/32422423\">https://ingatlan.com/paty-kozpont/elado+haz/csaladi-haz/32422423</a></td></tr><tr><td> 49.5 M Ft </td><td><a href=\"https://ingatlan.com/paty/elado+haz/csaladi-haz/32281499\">https://ingatlan.com/paty/elado+haz/csaladi-haz/32281499</a></td></tr><tr><td> 49.5 M Ft </td><td><a href=\"https://ingatlan.com/paty-kozpont/elado+haz/csaladi-haz/32232200\">https://ingatlan.com/paty-kozpont/elado+haz/csaladi-haz/32232200</a></td></tr><tr><td> 49.5 M Ft </td><td><a href=\"https://ingatlan.com/paty-ofalu/elado+haz/csaladi-haz/32129087\">https://ingatlan.com/paty-ofalu/elado+haz/csaladi-haz/32129087</a></td></tr><tr><td> 49.5 M Ft </td><td><a href=\"https://ingatlan.com/paty-ofalu/elado+haz/csaladi-haz/32129085\">https://ingatlan.com/paty-ofalu/elado+haz/csaladi-haz/32129085</a></td></tr><tr><td> 49 M Ft </td><td><a href=\"https://ingatlan.com/paty/elado+haz/csaladi-haz/32388852\">https://ingatlan.com/paty/elado+haz/csaladi-haz/32388852</a></td></tr><tr><td> 46 M Ft </td><td><a href=\"https://ingatlan.com/paty/elado+haz/ikerhaz/31946503\">https://ingatlan.com/paty/elado+haz/ikerhaz/31946503</a></td></tr><tr><td> 44.5 M Ft </td><td><a href=\"https://ingatlan.com/paty/elado+haz/csaladi-haz/32308751\">https://ingatlan.com/paty/elado+haz/csaladi-haz/32308751</a></td></tr><tr><td> 34.9 M Ft </td><td><a href=\"https://ingatlan.com/paty-kozpont/elado+haz/csaladi-haz/32064223\">https://ingatlan.com/paty-kozpont/elado+haz/csaladi-haz/32064223</a></td></tr><tr><td> 32.9 M Ft </td><td><a href=\"https://ingatlan.com/paty-mezeshegy/elado+haz/csaladi-haz/32257860\">https://ingatlan.com/paty-mezeshegy/elado+haz/csaladi-haz/32257860</a></td></tr><tr><td> 27.9 M Ft </td><td><a href=\"https://ingatlan.com/paty-kozpont/elado+haz/csaladi-haz/32305768\">https://ingatlan.com/paty-kozpont/elado+haz/csaladi-haz/32305768</a></td></tr><tr><td> 26.5 M Ft </td><td><a href=\"https://ingatlan.com/paty/elado+haz/csaladi-haz/32229955\">https://ingatlan.com/paty/elado+haz/csaladi-haz/32229955</a></td></tr><tr><td> 17 M Ft </td><td><a href=\"https://ingatlan.com/paty/elado+haz/konnyuszerkezetes-haz/32356164\">https://ingatlan.com/paty/elado+haz/konnyuszerkezetes-haz/32356164</a></td></tr><tr><td> 15 M Ft </td><td><a href=\"https://ingatlan.com/paty/elado+haz/csaladi-haz/26995204\">https://ingatlan.com/paty/elado+haz/csaladi-haz/26995204</a></td></tr><tr><td> 13 M Ft </td><td><a href=\"https://ingatlan.com/paty/elado+haz/csaladi-haz/27265624\">https://ingatlan.com/paty/elado+haz/csaladi-haz/27265624</a></td></tr></table>\n"
          ]
        }
      ]
    },
    {
      "cell_type": "code",
      "metadata": {
        "id": "RgwG_C8iuqM7"
      },
      "source": [
        "html_template='''\n",
        "<!doctype html>\n",
        "<html>\n",
        "    <head>\n",
        "        <!-- Bootstrap CSS --> \n",
        "        <link rel=\"stylesheet\" href=\"https://maxcdn.bootstrapcdn.com/bootstrap/4.0.0/css/bootstrap.min.css\" integrity=\"sha384-Gn5384xqQ1aoWXA+058RXPxPg6fy4IWvTNh0E263XmFcJlSAwiGgFAW/dAiS6JXm\" crossorigin=\"anonymous\">\n",
        "    </head>\n",
        "    <body>\n",
        "        <div class=\"container\" style=\"padding:10px\">\n",
        "        {{ ingatlan_com }}       \n",
        "        </div>\n",
        "    </body>\n",
        "</html>   \n",
        "\n",
        "\n",
        "'''\n"
      ],
      "execution_count": 202,
      "outputs": []
    },
    {
      "cell_type": "code",
      "metadata": {
        "id": "9oTF0abfvy86"
      },
      "source": [
        "from flask import Flask, render_template_string  \n"
      ],
      "execution_count": 200,
      "outputs": []
    },
    {
      "cell_type": "code",
      "metadata": {
        "id": "_qn9CTN0xcOm"
      },
      "source": [
        ""
      ],
      "execution_count": null,
      "outputs": []
    },
    {
      "cell_type": "code",
      "metadata": {
        "id": "nov94Zszv1rF"
      },
      "source": [
        "app = Flask(__name__)\n",
        "@app.route(\"/\") \n",
        "def home(): \n",
        "    return render_template_string(html_template,ingatlan_com=ingatlan_com_table) \n"
      ],
      "execution_count": 201,
      "outputs": []
    },
    {
      "cell_type": "code",
      "metadata": {
        "id": "FFyEq5hWvGlq"
      },
      "source": [
        "ingatlan_com_html=app.jinja_env.from_string(html_template).render(ingatlan_com=ingatlan_com_table)\n",
        "\n"
      ],
      "execution_count": 203,
      "outputs": []
    },
    {
      "cell_type": "code",
      "metadata": {
        "id": "RjedQcbXld_C"
      },
      "source": [
        "import IPython"
      ],
      "execution_count": 117,
      "outputs": []
    },
    {
      "cell_type": "code",
      "metadata": {
        "colab": {
          "base_uri": "https://localhost:8080/"
        },
        "id": "A3j-C7bqzHkd",
        "outputId": "b46016fe-61c3-474a-b1fe-66b2629f2351"
      },
      "source": [
        "print(ingatlan_com_table)"
      ],
      "execution_count": 204,
      "outputs": [
        {
          "output_type": "stream",
          "name": "stdout",
          "text": [
            "<table><tr><td> 649 M Ft </td><td><a href=\"https://ingatlan.com/paty/elado+haz/csaladi-haz/31915234\">https://ingatlan.com/paty/elado+haz/csaladi-haz/31915234</a></td></tr><tr><td> 649 M Ft </td><td><a href=\"https://ingatlan.com/paty/elado+haz/csaladi-haz/32262919\">https://ingatlan.com/paty/elado+haz/csaladi-haz/32262919</a></td></tr><tr><td> 649 M Ft </td><td><a href=\"https://ingatlan.com/paty/elado+haz/csaladi-haz/32250026\">https://ingatlan.com/paty/elado+haz/csaladi-haz/32250026</a></td></tr><tr><td> 649 M Ft </td><td><a href=\"https://ingatlan.com/paty/elado+haz/csaladi-haz/32031519\">https://ingatlan.com/paty/elado+haz/csaladi-haz/32031519</a></td></tr><tr><td> 649 M Ft </td><td><a href=\"https://ingatlan.com/paty/elado+haz/csaladi-haz/32126298\">https://ingatlan.com/paty/elado+haz/csaladi-haz/32126298</a></td></tr><tr><td> 649 M Ft </td><td><a href=\"https://ingatlan.com/paty/elado+haz/csaladi-haz/32419994\">https://ingatlan.com/paty/elado+haz/csaladi-haz/32419994</a></td></tr><tr><td> 649 M Ft </td><td><a href=\"https://ingatlan.com/paty/elado+haz/csaladi-haz/32420062\">https://ingatlan.com/paty/elado+haz/csaladi-haz/32420062</a></td></tr><tr><td> 649 M Ft </td><td><a href=\"https://ingatlan.com/paty/elado+haz/csaladi-haz/32355396\">https://ingatlan.com/paty/elado+haz/csaladi-haz/32355396</a></td></tr><tr><td> 649 M Ft </td><td><a href=\"https://ingatlan.com/paty/elado+haz/csaladi-haz/32331615\">https://ingatlan.com/paty/elado+haz/csaladi-haz/32331615</a></td></tr><tr><td> 649 M Ft </td><td><a href=\"https://ingatlan.com/paty/elado+haz/csaladi-haz/32237153\">https://ingatlan.com/paty/elado+haz/csaladi-haz/32237153</a></td></tr><tr><td> 380 M Ft </td><td><a href=\"https://ingatlan.com/paty/elado+haz/csaladi-haz/32252752\">https://ingatlan.com/paty/elado+haz/csaladi-haz/32252752</a></td></tr><tr><td> 380 M Ft </td><td><a href=\"https://ingatlan.com/paty/elado+haz/csaladi-haz/32144631\">https://ingatlan.com/paty/elado+haz/csaladi-haz/32144631</a></td></tr><tr><td> 299 M Ft </td><td><a href=\"https://ingatlan.com/paty/elado+haz/csaladi-haz/32177929\">https://ingatlan.com/paty/elado+haz/csaladi-haz/32177929</a></td></tr><tr><td> 294.9 M Ft </td><td><a href=\"https://ingatlan.com/paty/elado+haz/csaladi-haz/32275405\">https://ingatlan.com/paty/elado+haz/csaladi-haz/32275405</a></td></tr><tr><td> 169 M Ft </td><td><a href=\"https://ingatlan.com/paty/elado+haz/csaladi-haz/32314830\">https://ingatlan.com/paty/elado+haz/csaladi-haz/32314830</a></td></tr><tr><td> 144 M Ft </td><td><a href=\"https://ingatlan.com/paty/elado+haz/csaladi-haz/26358743\">https://ingatlan.com/paty/elado+haz/csaladi-haz/26358743</a></td></tr><tr><td> 135 M Ft </td><td><a href=\"https://ingatlan.com/paty/elado+haz/csaladi-haz/32111735\">https://ingatlan.com/paty/elado+haz/csaladi-haz/32111735</a></td></tr><tr><td> 135 M Ft </td><td><a href=\"https://ingatlan.com/paty-kortes-lakopark/elado+haz/csaladi-haz/31709641\">https://ingatlan.com/paty-kortes-lakopark/elado+haz/csaladi-haz/31709641</a></td></tr><tr><td> 134.99 M Ft </td><td><a href=\"https://ingatlan.com/paty/elado+haz/csaladi-haz/32092611\">https://ingatlan.com/paty/elado+haz/csaladi-haz/32092611</a></td></tr><tr><td> 129 M Ft </td><td><a href=\"https://ingatlan.com/paty/elado+haz/csaladi-haz/32076383\">https://ingatlan.com/paty/elado+haz/csaladi-haz/32076383</a></td></tr><tr><td> 120 M Ft </td><td><a href=\"https://ingatlan.com/paty/elado+haz/ikerhaz/29015996\">https://ingatlan.com/paty/elado+haz/ikerhaz/29015996</a></td></tr><tr><td> 118.9 M Ft </td><td><a href=\"https://ingatlan.com/paty/elado+haz/csaladi-haz/31797199\">https://ingatlan.com/paty/elado+haz/csaladi-haz/31797199</a></td></tr><tr><td> 118.9 M Ft </td><td><a href=\"https://ingatlan.com/paty-ofalu/elado+haz/csaladi-haz/32393095\">https://ingatlan.com/paty-ofalu/elado+haz/csaladi-haz/32393095</a></td></tr><tr><td> 118.9 M Ft </td><td><a href=\"https://ingatlan.com/paty-ofalu/elado+haz/csaladi-haz/32393094\">https://ingatlan.com/paty-ofalu/elado+haz/csaladi-haz/32393094</a></td></tr><tr><td> 118.9 M Ft </td><td><a href=\"https://ingatlan.com/paty/elado+haz/csaladi-haz/32232087\">https://ingatlan.com/paty/elado+haz/csaladi-haz/32232087</a></td></tr><tr><td> 118.9 M Ft </td><td><a href=\"https://ingatlan.com/paty-kozpont/elado+haz/csaladi-haz/31760766\">https://ingatlan.com/paty-kozpont/elado+haz/csaladi-haz/31760766</a></td></tr><tr><td> 99.9 M Ft </td><td><a href=\"https://ingatlan.com/paty/elado+haz/ikerhaz/32379578\">https://ingatlan.com/paty/elado+haz/ikerhaz/32379578</a></td></tr><tr><td> 99.9 M Ft </td><td><a href=\"https://ingatlan.com/paty/elado+haz/ikerhaz/32198449\">https://ingatlan.com/paty/elado+haz/ikerhaz/32198449</a></td></tr><tr><td> 99.9 M Ft </td><td><a href=\"https://ingatlan.com/paty-orgonas-lakopark/elado+haz/ikerhaz/32328284\">https://ingatlan.com/paty-orgonas-lakopark/elado+haz/ikerhaz/32328284</a></td></tr><tr><td> 99.9 M Ft </td><td><a href=\"https://ingatlan.com/paty/elado+haz/ikerhaz/32324966\">https://ingatlan.com/paty/elado+haz/ikerhaz/32324966</a></td></tr><tr><td> 99 M Ft </td><td><a href=\"https://ingatlan.com/paty/elado+haz/ikerhaz/32211116\">https://ingatlan.com/paty/elado+haz/ikerhaz/32211116</a></td></tr><tr><td> 99 M Ft </td><td><a href=\"https://ingatlan.com/paty/elado+haz/ikerhaz/32257825\">https://ingatlan.com/paty/elado+haz/ikerhaz/32257825</a></td></tr><tr><td> 98 M Ft </td><td><a href=\"https://ingatlan.com/paty/elado+haz/ikerhaz/32387422\">https://ingatlan.com/paty/elado+haz/ikerhaz/32387422</a></td></tr><tr><td> 92.9 M Ft </td><td><a href=\"https://ingatlan.com/paty/elado+haz/csaladi-haz/32313429\">https://ingatlan.com/paty/elado+haz/csaladi-haz/32313429</a></td></tr><tr><td> 92.9 M Ft </td><td><a href=\"https://ingatlan.com/paty/elado+haz/csaladi-haz/32435314\">https://ingatlan.com/paty/elado+haz/csaladi-haz/32435314</a></td></tr><tr><td> 90 M Ft </td><td><a href=\"https://ingatlan.com/paty/elado+haz/csaladi-haz/32212574\">https://ingatlan.com/paty/elado+haz/csaladi-haz/32212574</a></td></tr><tr><td> 89.94 M Ft </td><td><a href=\"https://ingatlan.com/paty-kozpont/elado+haz/csaladi-haz/32416332\">https://ingatlan.com/paty-kozpont/elado+haz/csaladi-haz/32416332</a></td></tr><tr><td> 89.9 M Ft </td><td><a href=\"https://ingatlan.com/paty/elado+haz/ikerhaz/31825580\">https://ingatlan.com/paty/elado+haz/ikerhaz/31825580</a></td></tr><tr><td> 89.9 M Ft </td><td><a href=\"https://ingatlan.com/paty-orgonas-lakopark/elado+haz/csaladi-haz/32412447\">https://ingatlan.com/paty-orgonas-lakopark/elado+haz/csaladi-haz/32412447</a></td></tr><tr><td> 89 M Ft </td><td><a href=\"https://ingatlan.com/paty/elado+haz/csaladi-haz/32430637\">https://ingatlan.com/paty/elado+haz/csaladi-haz/32430637</a></td></tr><tr><td> 89 M Ft </td><td><a href=\"https://ingatlan.com/paty/elado+haz/csaladi-haz/20284387\">https://ingatlan.com/paty/elado+haz/csaladi-haz/20284387</a></td></tr><tr><td> 89 M Ft </td><td><a href=\"https://ingatlan.com/paty/elado+haz/csaladi-haz/32426257\">https://ingatlan.com/paty/elado+haz/csaladi-haz/32426257</a></td></tr><tr><td> 86.9 M Ft </td><td><a href=\"https://ingatlan.com/paty/elado+haz/ikerhaz/32375998\">https://ingatlan.com/paty/elado+haz/ikerhaz/32375998</a></td></tr><tr><td> 85.14 M Ft </td><td><a href=\"https://ingatlan.com/paty-kozpont/elado+haz/csaladi-haz/32411716\">https://ingatlan.com/paty-kozpont/elado+haz/csaladi-haz/32411716</a></td></tr><tr><td> 82 M Ft </td><td><a href=\"https://ingatlan.com/paty/elado+haz/csaladi-haz/31924315\">https://ingatlan.com/paty/elado+haz/csaladi-haz/31924315</a></td></tr><tr><td> 82 M Ft </td><td><a href=\"https://ingatlan.com/paty/elado+haz/csaladi-haz/31837813\">https://ingatlan.com/paty/elado+haz/csaladi-haz/31837813</a></td></tr><tr><td> 81.6 M Ft </td><td><a href=\"https://ingatlan.com/paty/elado+haz/ikerhaz/25756292\">https://ingatlan.com/paty/elado+haz/ikerhaz/25756292</a></td></tr><tr><td> 80 M Ft </td><td><a href=\"https://ingatlan.com/paty/elado+haz/csaladi-haz/32295110\">https://ingatlan.com/paty/elado+haz/csaladi-haz/32295110</a></td></tr><tr><td> 79.9 M Ft </td><td><a href=\"https://ingatlan.com/paty/elado+haz/csaladi-haz/32368486\">https://ingatlan.com/paty/elado+haz/csaladi-haz/32368486</a></td></tr><tr><td> 79.9 M Ft </td><td><a href=\"https://ingatlan.com/paty-kozpont/elado+haz/csaladi-haz/31534035\">https://ingatlan.com/paty-kozpont/elado+haz/csaladi-haz/31534035</a></td></tr><tr><td> 79 M Ft </td><td><a href=\"https://ingatlan.com/paty/elado+haz/ikerhaz/32435316\">https://ingatlan.com/paty/elado+haz/ikerhaz/32435316</a></td></tr><tr><td> 78 M Ft </td><td><a href=\"https://ingatlan.com/paty-kozpont/elado+haz/ikerhaz/32420895\">https://ingatlan.com/paty-kozpont/elado+haz/ikerhaz/32420895</a></td></tr><tr><td> 78 M Ft </td><td><a href=\"https://ingatlan.com/paty/elado+haz/sorhaz/32331771\">https://ingatlan.com/paty/elado+haz/sorhaz/32331771</a></td></tr><tr><td> 76.9 M Ft </td><td><a href=\"https://ingatlan.com/paty/elado+haz/ikerhaz/32372333\">https://ingatlan.com/paty/elado+haz/ikerhaz/32372333</a></td></tr><tr><td> 75.05 M Ft </td><td><a href=\"https://ingatlan.com/paty-kozpont/elado+haz/csaladi-haz/32416699\">https://ingatlan.com/paty-kozpont/elado+haz/csaladi-haz/32416699</a></td></tr><tr><td> 74.9 M Ft </td><td><a href=\"https://ingatlan.com/paty-jeneidomb/elado+haz/ikerhaz/32271467\">https://ingatlan.com/paty-jeneidomb/elado+haz/ikerhaz/32271467</a></td></tr><tr><td> 74.5 M Ft </td><td><a href=\"https://ingatlan.com/paty-kozpont/elado+haz/csaladi-haz/32120274\">https://ingatlan.com/paty-kozpont/elado+haz/csaladi-haz/32120274</a></td></tr><tr><td> 66.2 M Ft </td><td><a href=\"https://ingatlan.com/paty/elado+haz/csaladi-haz/32414774\">https://ingatlan.com/paty/elado+haz/csaladi-haz/32414774</a></td></tr><tr><td> 66.2 M Ft </td><td><a href=\"https://ingatlan.com/paty/elado+haz/csaladi-haz/32414615\">https://ingatlan.com/paty/elado+haz/csaladi-haz/32414615</a></td></tr><tr><td> 66.2 M Ft </td><td><a href=\"https://ingatlan.com/paty/elado+haz/csaladi-haz/32413666\">https://ingatlan.com/paty/elado+haz/csaladi-haz/32413666</a></td></tr><tr><td> 66.2 M Ft </td><td><a href=\"https://ingatlan.com/paty/elado+haz/csaladi-haz/32413241\">https://ingatlan.com/paty/elado+haz/csaladi-haz/32413241</a></td></tr><tr><td> 65.9 M Ft </td><td><a href=\"https://ingatlan.com/paty/elado+haz/csaladi-haz/32404430\">https://ingatlan.com/paty/elado+haz/csaladi-haz/32404430</a></td></tr><tr><td> 64.9 M Ft </td><td><a href=\"https://ingatlan.com/paty/elado+haz/csaladi-haz/32339546\">https://ingatlan.com/paty/elado+haz/csaladi-haz/32339546</a></td></tr><tr><td> 61.9 M Ft </td><td><a href=\"https://ingatlan.com/paty/elado+haz/ikerhaz/32095043\">https://ingatlan.com/paty/elado+haz/ikerhaz/32095043</a></td></tr><tr><td> 59.5 M Ft </td><td><a href=\"https://ingatlan.com/paty/elado+haz/csaladi-haz/32173188\">https://ingatlan.com/paty/elado+haz/csaladi-haz/32173188</a></td></tr><tr><td> 59.5 M Ft </td><td><a href=\"https://ingatlan.com/paty/elado+haz/csaladi-haz/32203470\">https://ingatlan.com/paty/elado+haz/csaladi-haz/32203470</a></td></tr><tr><td> 59.5 M Ft </td><td><a href=\"https://ingatlan.com/paty/elado+haz/hazresz/32084317\">https://ingatlan.com/paty/elado+haz/hazresz/32084317</a></td></tr><tr><td> 51.9 M Ft </td><td><a href=\"https://ingatlan.com/paty/elado+haz/csaladi-haz/32314976\">https://ingatlan.com/paty/elado+haz/csaladi-haz/32314976</a></td></tr><tr><td> 49.5 M Ft </td><td><a href=\"https://ingatlan.com/paty/elado+haz/csaladi-haz/32360344\">https://ingatlan.com/paty/elado+haz/csaladi-haz/32360344</a></td></tr><tr><td> 49.5 M Ft </td><td><a href=\"https://ingatlan.com/paty-zsambeki-kanyar/elado+haz/csaladi-haz/32128756\">https://ingatlan.com/paty-zsambeki-kanyar/elado+haz/csaladi-haz/32128756</a></td></tr><tr><td> 49.5 M Ft </td><td><a href=\"https://ingatlan.com/paty/elado+haz/csaladi-haz/32131158\">https://ingatlan.com/paty/elado+haz/csaladi-haz/32131158</a></td></tr><tr><td> 49.5 M Ft </td><td><a href=\"https://ingatlan.com/paty-kozpont/elado+haz/csaladi-haz/32217066\">https://ingatlan.com/paty-kozpont/elado+haz/csaladi-haz/32217066</a></td></tr><tr><td> 49.5 M Ft </td><td><a href=\"https://ingatlan.com/paty-kozpont/elado+haz/csaladi-haz/32422423\">https://ingatlan.com/paty-kozpont/elado+haz/csaladi-haz/32422423</a></td></tr><tr><td> 49.5 M Ft </td><td><a href=\"https://ingatlan.com/paty/elado+haz/csaladi-haz/32281499\">https://ingatlan.com/paty/elado+haz/csaladi-haz/32281499</a></td></tr><tr><td> 49.5 M Ft </td><td><a href=\"https://ingatlan.com/paty-kozpont/elado+haz/csaladi-haz/32232200\">https://ingatlan.com/paty-kozpont/elado+haz/csaladi-haz/32232200</a></td></tr><tr><td> 49.5 M Ft </td><td><a href=\"https://ingatlan.com/paty-ofalu/elado+haz/csaladi-haz/32129087\">https://ingatlan.com/paty-ofalu/elado+haz/csaladi-haz/32129087</a></td></tr><tr><td> 49.5 M Ft </td><td><a href=\"https://ingatlan.com/paty-ofalu/elado+haz/csaladi-haz/32129085\">https://ingatlan.com/paty-ofalu/elado+haz/csaladi-haz/32129085</a></td></tr><tr><td> 49 M Ft </td><td><a href=\"https://ingatlan.com/paty/elado+haz/csaladi-haz/32388852\">https://ingatlan.com/paty/elado+haz/csaladi-haz/32388852</a></td></tr><tr><td> 46 M Ft </td><td><a href=\"https://ingatlan.com/paty/elado+haz/ikerhaz/31946503\">https://ingatlan.com/paty/elado+haz/ikerhaz/31946503</a></td></tr><tr><td> 44.5 M Ft </td><td><a href=\"https://ingatlan.com/paty/elado+haz/csaladi-haz/32308751\">https://ingatlan.com/paty/elado+haz/csaladi-haz/32308751</a></td></tr><tr><td> 34.9 M Ft </td><td><a href=\"https://ingatlan.com/paty-kozpont/elado+haz/csaladi-haz/32064223\">https://ingatlan.com/paty-kozpont/elado+haz/csaladi-haz/32064223</a></td></tr><tr><td> 32.9 M Ft </td><td><a href=\"https://ingatlan.com/paty-mezeshegy/elado+haz/csaladi-haz/32257860\">https://ingatlan.com/paty-mezeshegy/elado+haz/csaladi-haz/32257860</a></td></tr><tr><td> 27.9 M Ft </td><td><a href=\"https://ingatlan.com/paty-kozpont/elado+haz/csaladi-haz/32305768\">https://ingatlan.com/paty-kozpont/elado+haz/csaladi-haz/32305768</a></td></tr><tr><td> 26.5 M Ft </td><td><a href=\"https://ingatlan.com/paty/elado+haz/csaladi-haz/32229955\">https://ingatlan.com/paty/elado+haz/csaladi-haz/32229955</a></td></tr><tr><td> 17 M Ft </td><td><a href=\"https://ingatlan.com/paty/elado+haz/konnyuszerkezetes-haz/32356164\">https://ingatlan.com/paty/elado+haz/konnyuszerkezetes-haz/32356164</a></td></tr><tr><td> 15 M Ft </td><td><a href=\"https://ingatlan.com/paty/elado+haz/csaladi-haz/26995204\">https://ingatlan.com/paty/elado+haz/csaladi-haz/26995204</a></td></tr><tr><td> 13 M Ft </td><td><a href=\"https://ingatlan.com/paty/elado+haz/csaladi-haz/27265624\">https://ingatlan.com/paty/elado+haz/csaladi-haz/27265624</a></td></tr></table>\n"
          ]
        }
      ]
    },
    {
      "cell_type": "code",
      "metadata": {
        "colab": {
          "base_uri": "https://localhost:8080/"
        },
        "id": "DxLUqqF23Ayj",
        "outputId": "ac705af0-01d8-413e-ab60-e35ca6567d27"
      },
      "source": [
        "print(ingatlan_com_html)"
      ],
      "execution_count": 205,
      "outputs": [
        {
          "output_type": "stream",
          "name": "stdout",
          "text": [
            "\n",
            "<!doctype html>\n",
            "<html>\n",
            "    <head>\n",
            "        <!-- Bootstrap CSS --> \n",
            "        <link rel=\"stylesheet\" href=\"https://maxcdn.bootstrapcdn.com/bootstrap/4.0.0/css/bootstrap.min.css\" integrity=\"sha384-Gn5384xqQ1aoWXA+058RXPxPg6fy4IWvTNh0E263XmFcJlSAwiGgFAW/dAiS6JXm\" crossorigin=\"anonymous\">\n",
            "    </head>\n",
            "    <body>\n",
            "        <div class=\"container\" style=\"padding:10px\">\n",
            "        &lt;table&gt;&lt;tr&gt;&lt;td&gt; 649 M Ft &lt;/td&gt;&lt;td&gt;&lt;a href=&#34;https://ingatlan.com/paty/elado+haz/csaladi-haz/31915234&#34;&gt;https://ingatlan.com/paty/elado+haz/csaladi-haz/31915234&lt;/a&gt;&lt;/td&gt;&lt;/tr&gt;&lt;tr&gt;&lt;td&gt; 649 M Ft &lt;/td&gt;&lt;td&gt;&lt;a href=&#34;https://ingatlan.com/paty/elado+haz/csaladi-haz/32262919&#34;&gt;https://ingatlan.com/paty/elado+haz/csaladi-haz/32262919&lt;/a&gt;&lt;/td&gt;&lt;/tr&gt;&lt;tr&gt;&lt;td&gt; 649 M Ft &lt;/td&gt;&lt;td&gt;&lt;a href=&#34;https://ingatlan.com/paty/elado+haz/csaladi-haz/32250026&#34;&gt;https://ingatlan.com/paty/elado+haz/csaladi-haz/32250026&lt;/a&gt;&lt;/td&gt;&lt;/tr&gt;&lt;tr&gt;&lt;td&gt; 649 M Ft &lt;/td&gt;&lt;td&gt;&lt;a href=&#34;https://ingatlan.com/paty/elado+haz/csaladi-haz/32031519&#34;&gt;https://ingatlan.com/paty/elado+haz/csaladi-haz/32031519&lt;/a&gt;&lt;/td&gt;&lt;/tr&gt;&lt;tr&gt;&lt;td&gt; 649 M Ft &lt;/td&gt;&lt;td&gt;&lt;a href=&#34;https://ingatlan.com/paty/elado+haz/csaladi-haz/32126298&#34;&gt;https://ingatlan.com/paty/elado+haz/csaladi-haz/32126298&lt;/a&gt;&lt;/td&gt;&lt;/tr&gt;&lt;tr&gt;&lt;td&gt; 649 M Ft &lt;/td&gt;&lt;td&gt;&lt;a href=&#34;https://ingatlan.com/paty/elado+haz/csaladi-haz/32419994&#34;&gt;https://ingatlan.com/paty/elado+haz/csaladi-haz/32419994&lt;/a&gt;&lt;/td&gt;&lt;/tr&gt;&lt;tr&gt;&lt;td&gt; 649 M Ft &lt;/td&gt;&lt;td&gt;&lt;a href=&#34;https://ingatlan.com/paty/elado+haz/csaladi-haz/32420062&#34;&gt;https://ingatlan.com/paty/elado+haz/csaladi-haz/32420062&lt;/a&gt;&lt;/td&gt;&lt;/tr&gt;&lt;tr&gt;&lt;td&gt; 649 M Ft &lt;/td&gt;&lt;td&gt;&lt;a href=&#34;https://ingatlan.com/paty/elado+haz/csaladi-haz/32355396&#34;&gt;https://ingatlan.com/paty/elado+haz/csaladi-haz/32355396&lt;/a&gt;&lt;/td&gt;&lt;/tr&gt;&lt;tr&gt;&lt;td&gt; 649 M Ft &lt;/td&gt;&lt;td&gt;&lt;a href=&#34;https://ingatlan.com/paty/elado+haz/csaladi-haz/32331615&#34;&gt;https://ingatlan.com/paty/elado+haz/csaladi-haz/32331615&lt;/a&gt;&lt;/td&gt;&lt;/tr&gt;&lt;tr&gt;&lt;td&gt; 649 M Ft &lt;/td&gt;&lt;td&gt;&lt;a href=&#34;https://ingatlan.com/paty/elado+haz/csaladi-haz/32237153&#34;&gt;https://ingatlan.com/paty/elado+haz/csaladi-haz/32237153&lt;/a&gt;&lt;/td&gt;&lt;/tr&gt;&lt;tr&gt;&lt;td&gt; 380 M Ft &lt;/td&gt;&lt;td&gt;&lt;a href=&#34;https://ingatlan.com/paty/elado+haz/csaladi-haz/32252752&#34;&gt;https://ingatlan.com/paty/elado+haz/csaladi-haz/32252752&lt;/a&gt;&lt;/td&gt;&lt;/tr&gt;&lt;tr&gt;&lt;td&gt; 380 M Ft &lt;/td&gt;&lt;td&gt;&lt;a href=&#34;https://ingatlan.com/paty/elado+haz/csaladi-haz/32144631&#34;&gt;https://ingatlan.com/paty/elado+haz/csaladi-haz/32144631&lt;/a&gt;&lt;/td&gt;&lt;/tr&gt;&lt;tr&gt;&lt;td&gt; 299 M Ft &lt;/td&gt;&lt;td&gt;&lt;a href=&#34;https://ingatlan.com/paty/elado+haz/csaladi-haz/32177929&#34;&gt;https://ingatlan.com/paty/elado+haz/csaladi-haz/32177929&lt;/a&gt;&lt;/td&gt;&lt;/tr&gt;&lt;tr&gt;&lt;td&gt; 294.9 M Ft &lt;/td&gt;&lt;td&gt;&lt;a href=&#34;https://ingatlan.com/paty/elado+haz/csaladi-haz/32275405&#34;&gt;https://ingatlan.com/paty/elado+haz/csaladi-haz/32275405&lt;/a&gt;&lt;/td&gt;&lt;/tr&gt;&lt;tr&gt;&lt;td&gt; 169 M Ft &lt;/td&gt;&lt;td&gt;&lt;a href=&#34;https://ingatlan.com/paty/elado+haz/csaladi-haz/32314830&#34;&gt;https://ingatlan.com/paty/elado+haz/csaladi-haz/32314830&lt;/a&gt;&lt;/td&gt;&lt;/tr&gt;&lt;tr&gt;&lt;td&gt; 144 M Ft &lt;/td&gt;&lt;td&gt;&lt;a href=&#34;https://ingatlan.com/paty/elado+haz/csaladi-haz/26358743&#34;&gt;https://ingatlan.com/paty/elado+haz/csaladi-haz/26358743&lt;/a&gt;&lt;/td&gt;&lt;/tr&gt;&lt;tr&gt;&lt;td&gt; 135 M Ft &lt;/td&gt;&lt;td&gt;&lt;a href=&#34;https://ingatlan.com/paty/elado+haz/csaladi-haz/32111735&#34;&gt;https://ingatlan.com/paty/elado+haz/csaladi-haz/32111735&lt;/a&gt;&lt;/td&gt;&lt;/tr&gt;&lt;tr&gt;&lt;td&gt; 135 M Ft &lt;/td&gt;&lt;td&gt;&lt;a href=&#34;https://ingatlan.com/paty-kortes-lakopark/elado+haz/csaladi-haz/31709641&#34;&gt;https://ingatlan.com/paty-kortes-lakopark/elado+haz/csaladi-haz/31709641&lt;/a&gt;&lt;/td&gt;&lt;/tr&gt;&lt;tr&gt;&lt;td&gt; 134.99 M Ft &lt;/td&gt;&lt;td&gt;&lt;a href=&#34;https://ingatlan.com/paty/elado+haz/csaladi-haz/32092611&#34;&gt;https://ingatlan.com/paty/elado+haz/csaladi-haz/32092611&lt;/a&gt;&lt;/td&gt;&lt;/tr&gt;&lt;tr&gt;&lt;td&gt; 129 M Ft &lt;/td&gt;&lt;td&gt;&lt;a href=&#34;https://ingatlan.com/paty/elado+haz/csaladi-haz/32076383&#34;&gt;https://ingatlan.com/paty/elado+haz/csaladi-haz/32076383&lt;/a&gt;&lt;/td&gt;&lt;/tr&gt;&lt;tr&gt;&lt;td&gt; 120 M Ft &lt;/td&gt;&lt;td&gt;&lt;a href=&#34;https://ingatlan.com/paty/elado+haz/ikerhaz/29015996&#34;&gt;https://ingatlan.com/paty/elado+haz/ikerhaz/29015996&lt;/a&gt;&lt;/td&gt;&lt;/tr&gt;&lt;tr&gt;&lt;td&gt; 118.9 M Ft &lt;/td&gt;&lt;td&gt;&lt;a href=&#34;https://ingatlan.com/paty/elado+haz/csaladi-haz/31797199&#34;&gt;https://ingatlan.com/paty/elado+haz/csaladi-haz/31797199&lt;/a&gt;&lt;/td&gt;&lt;/tr&gt;&lt;tr&gt;&lt;td&gt; 118.9 M Ft &lt;/td&gt;&lt;td&gt;&lt;a href=&#34;https://ingatlan.com/paty-ofalu/elado+haz/csaladi-haz/32393095&#34;&gt;https://ingatlan.com/paty-ofalu/elado+haz/csaladi-haz/32393095&lt;/a&gt;&lt;/td&gt;&lt;/tr&gt;&lt;tr&gt;&lt;td&gt; 118.9 M Ft &lt;/td&gt;&lt;td&gt;&lt;a href=&#34;https://ingatlan.com/paty-ofalu/elado+haz/csaladi-haz/32393094&#34;&gt;https://ingatlan.com/paty-ofalu/elado+haz/csaladi-haz/32393094&lt;/a&gt;&lt;/td&gt;&lt;/tr&gt;&lt;tr&gt;&lt;td&gt; 118.9 M Ft &lt;/td&gt;&lt;td&gt;&lt;a href=&#34;https://ingatlan.com/paty/elado+haz/csaladi-haz/32232087&#34;&gt;https://ingatlan.com/paty/elado+haz/csaladi-haz/32232087&lt;/a&gt;&lt;/td&gt;&lt;/tr&gt;&lt;tr&gt;&lt;td&gt; 118.9 M Ft &lt;/td&gt;&lt;td&gt;&lt;a href=&#34;https://ingatlan.com/paty-kozpont/elado+haz/csaladi-haz/31760766&#34;&gt;https://ingatlan.com/paty-kozpont/elado+haz/csaladi-haz/31760766&lt;/a&gt;&lt;/td&gt;&lt;/tr&gt;&lt;tr&gt;&lt;td&gt; 99.9 M Ft &lt;/td&gt;&lt;td&gt;&lt;a href=&#34;https://ingatlan.com/paty/elado+haz/ikerhaz/32379578&#34;&gt;https://ingatlan.com/paty/elado+haz/ikerhaz/32379578&lt;/a&gt;&lt;/td&gt;&lt;/tr&gt;&lt;tr&gt;&lt;td&gt; 99.9 M Ft &lt;/td&gt;&lt;td&gt;&lt;a href=&#34;https://ingatlan.com/paty/elado+haz/ikerhaz/32198449&#34;&gt;https://ingatlan.com/paty/elado+haz/ikerhaz/32198449&lt;/a&gt;&lt;/td&gt;&lt;/tr&gt;&lt;tr&gt;&lt;td&gt; 99.9 M Ft &lt;/td&gt;&lt;td&gt;&lt;a href=&#34;https://ingatlan.com/paty-orgonas-lakopark/elado+haz/ikerhaz/32328284&#34;&gt;https://ingatlan.com/paty-orgonas-lakopark/elado+haz/ikerhaz/32328284&lt;/a&gt;&lt;/td&gt;&lt;/tr&gt;&lt;tr&gt;&lt;td&gt; 99.9 M Ft &lt;/td&gt;&lt;td&gt;&lt;a href=&#34;https://ingatlan.com/paty/elado+haz/ikerhaz/32324966&#34;&gt;https://ingatlan.com/paty/elado+haz/ikerhaz/32324966&lt;/a&gt;&lt;/td&gt;&lt;/tr&gt;&lt;tr&gt;&lt;td&gt; 99 M Ft &lt;/td&gt;&lt;td&gt;&lt;a href=&#34;https://ingatlan.com/paty/elado+haz/ikerhaz/32211116&#34;&gt;https://ingatlan.com/paty/elado+haz/ikerhaz/32211116&lt;/a&gt;&lt;/td&gt;&lt;/tr&gt;&lt;tr&gt;&lt;td&gt; 99 M Ft &lt;/td&gt;&lt;td&gt;&lt;a href=&#34;https://ingatlan.com/paty/elado+haz/ikerhaz/32257825&#34;&gt;https://ingatlan.com/paty/elado+haz/ikerhaz/32257825&lt;/a&gt;&lt;/td&gt;&lt;/tr&gt;&lt;tr&gt;&lt;td&gt; 98 M Ft &lt;/td&gt;&lt;td&gt;&lt;a href=&#34;https://ingatlan.com/paty/elado+haz/ikerhaz/32387422&#34;&gt;https://ingatlan.com/paty/elado+haz/ikerhaz/32387422&lt;/a&gt;&lt;/td&gt;&lt;/tr&gt;&lt;tr&gt;&lt;td&gt; 92.9 M Ft &lt;/td&gt;&lt;td&gt;&lt;a href=&#34;https://ingatlan.com/paty/elado+haz/csaladi-haz/32313429&#34;&gt;https://ingatlan.com/paty/elado+haz/csaladi-haz/32313429&lt;/a&gt;&lt;/td&gt;&lt;/tr&gt;&lt;tr&gt;&lt;td&gt; 92.9 M Ft &lt;/td&gt;&lt;td&gt;&lt;a href=&#34;https://ingatlan.com/paty/elado+haz/csaladi-haz/32435314&#34;&gt;https://ingatlan.com/paty/elado+haz/csaladi-haz/32435314&lt;/a&gt;&lt;/td&gt;&lt;/tr&gt;&lt;tr&gt;&lt;td&gt; 90 M Ft &lt;/td&gt;&lt;td&gt;&lt;a href=&#34;https://ingatlan.com/paty/elado+haz/csaladi-haz/32212574&#34;&gt;https://ingatlan.com/paty/elado+haz/csaladi-haz/32212574&lt;/a&gt;&lt;/td&gt;&lt;/tr&gt;&lt;tr&gt;&lt;td&gt; 89.94 M Ft &lt;/td&gt;&lt;td&gt;&lt;a href=&#34;https://ingatlan.com/paty-kozpont/elado+haz/csaladi-haz/32416332&#34;&gt;https://ingatlan.com/paty-kozpont/elado+haz/csaladi-haz/32416332&lt;/a&gt;&lt;/td&gt;&lt;/tr&gt;&lt;tr&gt;&lt;td&gt; 89.9 M Ft &lt;/td&gt;&lt;td&gt;&lt;a href=&#34;https://ingatlan.com/paty/elado+haz/ikerhaz/31825580&#34;&gt;https://ingatlan.com/paty/elado+haz/ikerhaz/31825580&lt;/a&gt;&lt;/td&gt;&lt;/tr&gt;&lt;tr&gt;&lt;td&gt; 89.9 M Ft &lt;/td&gt;&lt;td&gt;&lt;a href=&#34;https://ingatlan.com/paty-orgonas-lakopark/elado+haz/csaladi-haz/32412447&#34;&gt;https://ingatlan.com/paty-orgonas-lakopark/elado+haz/csaladi-haz/32412447&lt;/a&gt;&lt;/td&gt;&lt;/tr&gt;&lt;tr&gt;&lt;td&gt; 89 M Ft &lt;/td&gt;&lt;td&gt;&lt;a href=&#34;https://ingatlan.com/paty/elado+haz/csaladi-haz/32430637&#34;&gt;https://ingatlan.com/paty/elado+haz/csaladi-haz/32430637&lt;/a&gt;&lt;/td&gt;&lt;/tr&gt;&lt;tr&gt;&lt;td&gt; 89 M Ft &lt;/td&gt;&lt;td&gt;&lt;a href=&#34;https://ingatlan.com/paty/elado+haz/csaladi-haz/20284387&#34;&gt;https://ingatlan.com/paty/elado+haz/csaladi-haz/20284387&lt;/a&gt;&lt;/td&gt;&lt;/tr&gt;&lt;tr&gt;&lt;td&gt; 89 M Ft &lt;/td&gt;&lt;td&gt;&lt;a href=&#34;https://ingatlan.com/paty/elado+haz/csaladi-haz/32426257&#34;&gt;https://ingatlan.com/paty/elado+haz/csaladi-haz/32426257&lt;/a&gt;&lt;/td&gt;&lt;/tr&gt;&lt;tr&gt;&lt;td&gt; 86.9 M Ft &lt;/td&gt;&lt;td&gt;&lt;a href=&#34;https://ingatlan.com/paty/elado+haz/ikerhaz/32375998&#34;&gt;https://ingatlan.com/paty/elado+haz/ikerhaz/32375998&lt;/a&gt;&lt;/td&gt;&lt;/tr&gt;&lt;tr&gt;&lt;td&gt; 85.14 M Ft &lt;/td&gt;&lt;td&gt;&lt;a href=&#34;https://ingatlan.com/paty-kozpont/elado+haz/csaladi-haz/32411716&#34;&gt;https://ingatlan.com/paty-kozpont/elado+haz/csaladi-haz/32411716&lt;/a&gt;&lt;/td&gt;&lt;/tr&gt;&lt;tr&gt;&lt;td&gt; 82 M Ft &lt;/td&gt;&lt;td&gt;&lt;a href=&#34;https://ingatlan.com/paty/elado+haz/csaladi-haz/31924315&#34;&gt;https://ingatlan.com/paty/elado+haz/csaladi-haz/31924315&lt;/a&gt;&lt;/td&gt;&lt;/tr&gt;&lt;tr&gt;&lt;td&gt; 82 M Ft &lt;/td&gt;&lt;td&gt;&lt;a href=&#34;https://ingatlan.com/paty/elado+haz/csaladi-haz/31837813&#34;&gt;https://ingatlan.com/paty/elado+haz/csaladi-haz/31837813&lt;/a&gt;&lt;/td&gt;&lt;/tr&gt;&lt;tr&gt;&lt;td&gt; 81.6 M Ft &lt;/td&gt;&lt;td&gt;&lt;a href=&#34;https://ingatlan.com/paty/elado+haz/ikerhaz/25756292&#34;&gt;https://ingatlan.com/paty/elado+haz/ikerhaz/25756292&lt;/a&gt;&lt;/td&gt;&lt;/tr&gt;&lt;tr&gt;&lt;td&gt; 80 M Ft &lt;/td&gt;&lt;td&gt;&lt;a href=&#34;https://ingatlan.com/paty/elado+haz/csaladi-haz/32295110&#34;&gt;https://ingatlan.com/paty/elado+haz/csaladi-haz/32295110&lt;/a&gt;&lt;/td&gt;&lt;/tr&gt;&lt;tr&gt;&lt;td&gt; 79.9 M Ft &lt;/td&gt;&lt;td&gt;&lt;a href=&#34;https://ingatlan.com/paty/elado+haz/csaladi-haz/32368486&#34;&gt;https://ingatlan.com/paty/elado+haz/csaladi-haz/32368486&lt;/a&gt;&lt;/td&gt;&lt;/tr&gt;&lt;tr&gt;&lt;td&gt; 79.9 M Ft &lt;/td&gt;&lt;td&gt;&lt;a href=&#34;https://ingatlan.com/paty-kozpont/elado+haz/csaladi-haz/31534035&#34;&gt;https://ingatlan.com/paty-kozpont/elado+haz/csaladi-haz/31534035&lt;/a&gt;&lt;/td&gt;&lt;/tr&gt;&lt;tr&gt;&lt;td&gt; 79 M Ft &lt;/td&gt;&lt;td&gt;&lt;a href=&#34;https://ingatlan.com/paty/elado+haz/ikerhaz/32435316&#34;&gt;https://ingatlan.com/paty/elado+haz/ikerhaz/32435316&lt;/a&gt;&lt;/td&gt;&lt;/tr&gt;&lt;tr&gt;&lt;td&gt; 78 M Ft &lt;/td&gt;&lt;td&gt;&lt;a href=&#34;https://ingatlan.com/paty-kozpont/elado+haz/ikerhaz/32420895&#34;&gt;https://ingatlan.com/paty-kozpont/elado+haz/ikerhaz/32420895&lt;/a&gt;&lt;/td&gt;&lt;/tr&gt;&lt;tr&gt;&lt;td&gt; 78 M Ft &lt;/td&gt;&lt;td&gt;&lt;a href=&#34;https://ingatlan.com/paty/elado+haz/sorhaz/32331771&#34;&gt;https://ingatlan.com/paty/elado+haz/sorhaz/32331771&lt;/a&gt;&lt;/td&gt;&lt;/tr&gt;&lt;tr&gt;&lt;td&gt; 76.9 M Ft &lt;/td&gt;&lt;td&gt;&lt;a href=&#34;https://ingatlan.com/paty/elado+haz/ikerhaz/32372333&#34;&gt;https://ingatlan.com/paty/elado+haz/ikerhaz/32372333&lt;/a&gt;&lt;/td&gt;&lt;/tr&gt;&lt;tr&gt;&lt;td&gt; 75.05 M Ft &lt;/td&gt;&lt;td&gt;&lt;a href=&#34;https://ingatlan.com/paty-kozpont/elado+haz/csaladi-haz/32416699&#34;&gt;https://ingatlan.com/paty-kozpont/elado+haz/csaladi-haz/32416699&lt;/a&gt;&lt;/td&gt;&lt;/tr&gt;&lt;tr&gt;&lt;td&gt; 74.9 M Ft &lt;/td&gt;&lt;td&gt;&lt;a href=&#34;https://ingatlan.com/paty-jeneidomb/elado+haz/ikerhaz/32271467&#34;&gt;https://ingatlan.com/paty-jeneidomb/elado+haz/ikerhaz/32271467&lt;/a&gt;&lt;/td&gt;&lt;/tr&gt;&lt;tr&gt;&lt;td&gt; 74.5 M Ft &lt;/td&gt;&lt;td&gt;&lt;a href=&#34;https://ingatlan.com/paty-kozpont/elado+haz/csaladi-haz/32120274&#34;&gt;https://ingatlan.com/paty-kozpont/elado+haz/csaladi-haz/32120274&lt;/a&gt;&lt;/td&gt;&lt;/tr&gt;&lt;tr&gt;&lt;td&gt; 66.2 M Ft &lt;/td&gt;&lt;td&gt;&lt;a href=&#34;https://ingatlan.com/paty/elado+haz/csaladi-haz/32414774&#34;&gt;https://ingatlan.com/paty/elado+haz/csaladi-haz/32414774&lt;/a&gt;&lt;/td&gt;&lt;/tr&gt;&lt;tr&gt;&lt;td&gt; 66.2 M Ft &lt;/td&gt;&lt;td&gt;&lt;a href=&#34;https://ingatlan.com/paty/elado+haz/csaladi-haz/32414615&#34;&gt;https://ingatlan.com/paty/elado+haz/csaladi-haz/32414615&lt;/a&gt;&lt;/td&gt;&lt;/tr&gt;&lt;tr&gt;&lt;td&gt; 66.2 M Ft &lt;/td&gt;&lt;td&gt;&lt;a href=&#34;https://ingatlan.com/paty/elado+haz/csaladi-haz/32413666&#34;&gt;https://ingatlan.com/paty/elado+haz/csaladi-haz/32413666&lt;/a&gt;&lt;/td&gt;&lt;/tr&gt;&lt;tr&gt;&lt;td&gt; 66.2 M Ft &lt;/td&gt;&lt;td&gt;&lt;a href=&#34;https://ingatlan.com/paty/elado+haz/csaladi-haz/32413241&#34;&gt;https://ingatlan.com/paty/elado+haz/csaladi-haz/32413241&lt;/a&gt;&lt;/td&gt;&lt;/tr&gt;&lt;tr&gt;&lt;td&gt; 65.9 M Ft &lt;/td&gt;&lt;td&gt;&lt;a href=&#34;https://ingatlan.com/paty/elado+haz/csaladi-haz/32404430&#34;&gt;https://ingatlan.com/paty/elado+haz/csaladi-haz/32404430&lt;/a&gt;&lt;/td&gt;&lt;/tr&gt;&lt;tr&gt;&lt;td&gt; 64.9 M Ft &lt;/td&gt;&lt;td&gt;&lt;a href=&#34;https://ingatlan.com/paty/elado+haz/csaladi-haz/32339546&#34;&gt;https://ingatlan.com/paty/elado+haz/csaladi-haz/32339546&lt;/a&gt;&lt;/td&gt;&lt;/tr&gt;&lt;tr&gt;&lt;td&gt; 61.9 M Ft &lt;/td&gt;&lt;td&gt;&lt;a href=&#34;https://ingatlan.com/paty/elado+haz/ikerhaz/32095043&#34;&gt;https://ingatlan.com/paty/elado+haz/ikerhaz/32095043&lt;/a&gt;&lt;/td&gt;&lt;/tr&gt;&lt;tr&gt;&lt;td&gt; 59.5 M Ft &lt;/td&gt;&lt;td&gt;&lt;a href=&#34;https://ingatlan.com/paty/elado+haz/csaladi-haz/32173188&#34;&gt;https://ingatlan.com/paty/elado+haz/csaladi-haz/32173188&lt;/a&gt;&lt;/td&gt;&lt;/tr&gt;&lt;tr&gt;&lt;td&gt; 59.5 M Ft &lt;/td&gt;&lt;td&gt;&lt;a href=&#34;https://ingatlan.com/paty/elado+haz/csaladi-haz/32203470&#34;&gt;https://ingatlan.com/paty/elado+haz/csaladi-haz/32203470&lt;/a&gt;&lt;/td&gt;&lt;/tr&gt;&lt;tr&gt;&lt;td&gt; 59.5 M Ft &lt;/td&gt;&lt;td&gt;&lt;a href=&#34;https://ingatlan.com/paty/elado+haz/hazresz/32084317&#34;&gt;https://ingatlan.com/paty/elado+haz/hazresz/32084317&lt;/a&gt;&lt;/td&gt;&lt;/tr&gt;&lt;tr&gt;&lt;td&gt; 51.9 M Ft &lt;/td&gt;&lt;td&gt;&lt;a href=&#34;https://ingatlan.com/paty/elado+haz/csaladi-haz/32314976&#34;&gt;https://ingatlan.com/paty/elado+haz/csaladi-haz/32314976&lt;/a&gt;&lt;/td&gt;&lt;/tr&gt;&lt;tr&gt;&lt;td&gt; 49.5 M Ft &lt;/td&gt;&lt;td&gt;&lt;a href=&#34;https://ingatlan.com/paty/elado+haz/csaladi-haz/32360344&#34;&gt;https://ingatlan.com/paty/elado+haz/csaladi-haz/32360344&lt;/a&gt;&lt;/td&gt;&lt;/tr&gt;&lt;tr&gt;&lt;td&gt; 49.5 M Ft &lt;/td&gt;&lt;td&gt;&lt;a href=&#34;https://ingatlan.com/paty-zsambeki-kanyar/elado+haz/csaladi-haz/32128756&#34;&gt;https://ingatlan.com/paty-zsambeki-kanyar/elado+haz/csaladi-haz/32128756&lt;/a&gt;&lt;/td&gt;&lt;/tr&gt;&lt;tr&gt;&lt;td&gt; 49.5 M Ft &lt;/td&gt;&lt;td&gt;&lt;a href=&#34;https://ingatlan.com/paty/elado+haz/csaladi-haz/32131158&#34;&gt;https://ingatlan.com/paty/elado+haz/csaladi-haz/32131158&lt;/a&gt;&lt;/td&gt;&lt;/tr&gt;&lt;tr&gt;&lt;td&gt; 49.5 M Ft &lt;/td&gt;&lt;td&gt;&lt;a href=&#34;https://ingatlan.com/paty-kozpont/elado+haz/csaladi-haz/32217066&#34;&gt;https://ingatlan.com/paty-kozpont/elado+haz/csaladi-haz/32217066&lt;/a&gt;&lt;/td&gt;&lt;/tr&gt;&lt;tr&gt;&lt;td&gt; 49.5 M Ft &lt;/td&gt;&lt;td&gt;&lt;a href=&#34;https://ingatlan.com/paty-kozpont/elado+haz/csaladi-haz/32422423&#34;&gt;https://ingatlan.com/paty-kozpont/elado+haz/csaladi-haz/32422423&lt;/a&gt;&lt;/td&gt;&lt;/tr&gt;&lt;tr&gt;&lt;td&gt; 49.5 M Ft &lt;/td&gt;&lt;td&gt;&lt;a href=&#34;https://ingatlan.com/paty/elado+haz/csaladi-haz/32281499&#34;&gt;https://ingatlan.com/paty/elado+haz/csaladi-haz/32281499&lt;/a&gt;&lt;/td&gt;&lt;/tr&gt;&lt;tr&gt;&lt;td&gt; 49.5 M Ft &lt;/td&gt;&lt;td&gt;&lt;a href=&#34;https://ingatlan.com/paty-kozpont/elado+haz/csaladi-haz/32232200&#34;&gt;https://ingatlan.com/paty-kozpont/elado+haz/csaladi-haz/32232200&lt;/a&gt;&lt;/td&gt;&lt;/tr&gt;&lt;tr&gt;&lt;td&gt; 49.5 M Ft &lt;/td&gt;&lt;td&gt;&lt;a href=&#34;https://ingatlan.com/paty-ofalu/elado+haz/csaladi-haz/32129087&#34;&gt;https://ingatlan.com/paty-ofalu/elado+haz/csaladi-haz/32129087&lt;/a&gt;&lt;/td&gt;&lt;/tr&gt;&lt;tr&gt;&lt;td&gt; 49.5 M Ft &lt;/td&gt;&lt;td&gt;&lt;a href=&#34;https://ingatlan.com/paty-ofalu/elado+haz/csaladi-haz/32129085&#34;&gt;https://ingatlan.com/paty-ofalu/elado+haz/csaladi-haz/32129085&lt;/a&gt;&lt;/td&gt;&lt;/tr&gt;&lt;tr&gt;&lt;td&gt; 49 M Ft &lt;/td&gt;&lt;td&gt;&lt;a href=&#34;https://ingatlan.com/paty/elado+haz/csaladi-haz/32388852&#34;&gt;https://ingatlan.com/paty/elado+haz/csaladi-haz/32388852&lt;/a&gt;&lt;/td&gt;&lt;/tr&gt;&lt;tr&gt;&lt;td&gt; 46 M Ft &lt;/td&gt;&lt;td&gt;&lt;a href=&#34;https://ingatlan.com/paty/elado+haz/ikerhaz/31946503&#34;&gt;https://ingatlan.com/paty/elado+haz/ikerhaz/31946503&lt;/a&gt;&lt;/td&gt;&lt;/tr&gt;&lt;tr&gt;&lt;td&gt; 44.5 M Ft &lt;/td&gt;&lt;td&gt;&lt;a href=&#34;https://ingatlan.com/paty/elado+haz/csaladi-haz/32308751&#34;&gt;https://ingatlan.com/paty/elado+haz/csaladi-haz/32308751&lt;/a&gt;&lt;/td&gt;&lt;/tr&gt;&lt;tr&gt;&lt;td&gt; 34.9 M Ft &lt;/td&gt;&lt;td&gt;&lt;a href=&#34;https://ingatlan.com/paty-kozpont/elado+haz/csaladi-haz/32064223&#34;&gt;https://ingatlan.com/paty-kozpont/elado+haz/csaladi-haz/32064223&lt;/a&gt;&lt;/td&gt;&lt;/tr&gt;&lt;tr&gt;&lt;td&gt; 32.9 M Ft &lt;/td&gt;&lt;td&gt;&lt;a href=&#34;https://ingatlan.com/paty-mezeshegy/elado+haz/csaladi-haz/32257860&#34;&gt;https://ingatlan.com/paty-mezeshegy/elado+haz/csaladi-haz/32257860&lt;/a&gt;&lt;/td&gt;&lt;/tr&gt;&lt;tr&gt;&lt;td&gt; 27.9 M Ft &lt;/td&gt;&lt;td&gt;&lt;a href=&#34;https://ingatlan.com/paty-kozpont/elado+haz/csaladi-haz/32305768&#34;&gt;https://ingatlan.com/paty-kozpont/elado+haz/csaladi-haz/32305768&lt;/a&gt;&lt;/td&gt;&lt;/tr&gt;&lt;tr&gt;&lt;td&gt; 26.5 M Ft &lt;/td&gt;&lt;td&gt;&lt;a href=&#34;https://ingatlan.com/paty/elado+haz/csaladi-haz/32229955&#34;&gt;https://ingatlan.com/paty/elado+haz/csaladi-haz/32229955&lt;/a&gt;&lt;/td&gt;&lt;/tr&gt;&lt;tr&gt;&lt;td&gt; 17 M Ft &lt;/td&gt;&lt;td&gt;&lt;a href=&#34;https://ingatlan.com/paty/elado+haz/konnyuszerkezetes-haz/32356164&#34;&gt;https://ingatlan.com/paty/elado+haz/konnyuszerkezetes-haz/32356164&lt;/a&gt;&lt;/td&gt;&lt;/tr&gt;&lt;tr&gt;&lt;td&gt; 15 M Ft &lt;/td&gt;&lt;td&gt;&lt;a href=&#34;https://ingatlan.com/paty/elado+haz/csaladi-haz/26995204&#34;&gt;https://ingatlan.com/paty/elado+haz/csaladi-haz/26995204&lt;/a&gt;&lt;/td&gt;&lt;/tr&gt;&lt;tr&gt;&lt;td&gt; 13 M Ft &lt;/td&gt;&lt;td&gt;&lt;a href=&#34;https://ingatlan.com/paty/elado+haz/csaladi-haz/27265624&#34;&gt;https://ingatlan.com/paty/elado+haz/csaladi-haz/27265624&lt;/a&gt;&lt;/td&gt;&lt;/tr&gt;&lt;/table&gt;       \n",
            "        </div>\n",
            "    </body>\n",
            "</html>   \n",
            "\n",
            "\n"
          ]
        }
      ]
    },
    {
      "cell_type": "code",
      "metadata": {
        "colab": {
          "base_uri": "https://localhost:8080/",
          "height": 1000
        },
        "id": "mCmcZNx_lC5S",
        "outputId": "604232eb-675a-4922-e33e-f5d2cd6b3058"
      },
      "source": [
        "IPython.display.HTML(ingatlan_com_html)"
      ],
      "execution_count": 206,
      "outputs": [
        {
          "output_type": "execute_result",
          "data": {
            "text/html": [
              "\n",
              "<!doctype html>\n",
              "<html>\n",
              "    <head>\n",
              "        <!-- Bootstrap CSS --> \n",
              "        <link rel=\"stylesheet\" href=\"https://maxcdn.bootstrapcdn.com/bootstrap/4.0.0/css/bootstrap.min.css\" integrity=\"sha384-Gn5384xqQ1aoWXA+058RXPxPg6fy4IWvTNh0E263XmFcJlSAwiGgFAW/dAiS6JXm\" crossorigin=\"anonymous\">\n",
              "    </head>\n",
              "    <body>\n",
              "        <div class=\"container\" style=\"padding:10px\">\n",
              "        &lt;table&gt;&lt;tr&gt;&lt;td&gt; 649 M Ft &lt;/td&gt;&lt;td&gt;&lt;a href=&#34;https://ingatlan.com/paty/elado+haz/csaladi-haz/31915234&#34;&gt;https://ingatlan.com/paty/elado+haz/csaladi-haz/31915234&lt;/a&gt;&lt;/td&gt;&lt;/tr&gt;&lt;tr&gt;&lt;td&gt; 649 M Ft &lt;/td&gt;&lt;td&gt;&lt;a href=&#34;https://ingatlan.com/paty/elado+haz/csaladi-haz/32262919&#34;&gt;https://ingatlan.com/paty/elado+haz/csaladi-haz/32262919&lt;/a&gt;&lt;/td&gt;&lt;/tr&gt;&lt;tr&gt;&lt;td&gt; 649 M Ft &lt;/td&gt;&lt;td&gt;&lt;a href=&#34;https://ingatlan.com/paty/elado+haz/csaladi-haz/32250026&#34;&gt;https://ingatlan.com/paty/elado+haz/csaladi-haz/32250026&lt;/a&gt;&lt;/td&gt;&lt;/tr&gt;&lt;tr&gt;&lt;td&gt; 649 M Ft &lt;/td&gt;&lt;td&gt;&lt;a href=&#34;https://ingatlan.com/paty/elado+haz/csaladi-haz/32031519&#34;&gt;https://ingatlan.com/paty/elado+haz/csaladi-haz/32031519&lt;/a&gt;&lt;/td&gt;&lt;/tr&gt;&lt;tr&gt;&lt;td&gt; 649 M Ft &lt;/td&gt;&lt;td&gt;&lt;a href=&#34;https://ingatlan.com/paty/elado+haz/csaladi-haz/32126298&#34;&gt;https://ingatlan.com/paty/elado+haz/csaladi-haz/32126298&lt;/a&gt;&lt;/td&gt;&lt;/tr&gt;&lt;tr&gt;&lt;td&gt; 649 M Ft &lt;/td&gt;&lt;td&gt;&lt;a href=&#34;https://ingatlan.com/paty/elado+haz/csaladi-haz/32419994&#34;&gt;https://ingatlan.com/paty/elado+haz/csaladi-haz/32419994&lt;/a&gt;&lt;/td&gt;&lt;/tr&gt;&lt;tr&gt;&lt;td&gt; 649 M Ft &lt;/td&gt;&lt;td&gt;&lt;a href=&#34;https://ingatlan.com/paty/elado+haz/csaladi-haz/32420062&#34;&gt;https://ingatlan.com/paty/elado+haz/csaladi-haz/32420062&lt;/a&gt;&lt;/td&gt;&lt;/tr&gt;&lt;tr&gt;&lt;td&gt; 649 M Ft &lt;/td&gt;&lt;td&gt;&lt;a href=&#34;https://ingatlan.com/paty/elado+haz/csaladi-haz/32355396&#34;&gt;https://ingatlan.com/paty/elado+haz/csaladi-haz/32355396&lt;/a&gt;&lt;/td&gt;&lt;/tr&gt;&lt;tr&gt;&lt;td&gt; 649 M Ft &lt;/td&gt;&lt;td&gt;&lt;a href=&#34;https://ingatlan.com/paty/elado+haz/csaladi-haz/32331615&#34;&gt;https://ingatlan.com/paty/elado+haz/csaladi-haz/32331615&lt;/a&gt;&lt;/td&gt;&lt;/tr&gt;&lt;tr&gt;&lt;td&gt; 649 M Ft &lt;/td&gt;&lt;td&gt;&lt;a href=&#34;https://ingatlan.com/paty/elado+haz/csaladi-haz/32237153&#34;&gt;https://ingatlan.com/paty/elado+haz/csaladi-haz/32237153&lt;/a&gt;&lt;/td&gt;&lt;/tr&gt;&lt;tr&gt;&lt;td&gt; 380 M Ft &lt;/td&gt;&lt;td&gt;&lt;a href=&#34;https://ingatlan.com/paty/elado+haz/csaladi-haz/32252752&#34;&gt;https://ingatlan.com/paty/elado+haz/csaladi-haz/32252752&lt;/a&gt;&lt;/td&gt;&lt;/tr&gt;&lt;tr&gt;&lt;td&gt; 380 M Ft &lt;/td&gt;&lt;td&gt;&lt;a href=&#34;https://ingatlan.com/paty/elado+haz/csaladi-haz/32144631&#34;&gt;https://ingatlan.com/paty/elado+haz/csaladi-haz/32144631&lt;/a&gt;&lt;/td&gt;&lt;/tr&gt;&lt;tr&gt;&lt;td&gt; 299 M Ft &lt;/td&gt;&lt;td&gt;&lt;a href=&#34;https://ingatlan.com/paty/elado+haz/csaladi-haz/32177929&#34;&gt;https://ingatlan.com/paty/elado+haz/csaladi-haz/32177929&lt;/a&gt;&lt;/td&gt;&lt;/tr&gt;&lt;tr&gt;&lt;td&gt; 294.9 M Ft &lt;/td&gt;&lt;td&gt;&lt;a href=&#34;https://ingatlan.com/paty/elado+haz/csaladi-haz/32275405&#34;&gt;https://ingatlan.com/paty/elado+haz/csaladi-haz/32275405&lt;/a&gt;&lt;/td&gt;&lt;/tr&gt;&lt;tr&gt;&lt;td&gt; 169 M Ft &lt;/td&gt;&lt;td&gt;&lt;a href=&#34;https://ingatlan.com/paty/elado+haz/csaladi-haz/32314830&#34;&gt;https://ingatlan.com/paty/elado+haz/csaladi-haz/32314830&lt;/a&gt;&lt;/td&gt;&lt;/tr&gt;&lt;tr&gt;&lt;td&gt; 144 M Ft &lt;/td&gt;&lt;td&gt;&lt;a href=&#34;https://ingatlan.com/paty/elado+haz/csaladi-haz/26358743&#34;&gt;https://ingatlan.com/paty/elado+haz/csaladi-haz/26358743&lt;/a&gt;&lt;/td&gt;&lt;/tr&gt;&lt;tr&gt;&lt;td&gt; 135 M Ft &lt;/td&gt;&lt;td&gt;&lt;a href=&#34;https://ingatlan.com/paty/elado+haz/csaladi-haz/32111735&#34;&gt;https://ingatlan.com/paty/elado+haz/csaladi-haz/32111735&lt;/a&gt;&lt;/td&gt;&lt;/tr&gt;&lt;tr&gt;&lt;td&gt; 135 M Ft &lt;/td&gt;&lt;td&gt;&lt;a href=&#34;https://ingatlan.com/paty-kortes-lakopark/elado+haz/csaladi-haz/31709641&#34;&gt;https://ingatlan.com/paty-kortes-lakopark/elado+haz/csaladi-haz/31709641&lt;/a&gt;&lt;/td&gt;&lt;/tr&gt;&lt;tr&gt;&lt;td&gt; 134.99 M Ft &lt;/td&gt;&lt;td&gt;&lt;a href=&#34;https://ingatlan.com/paty/elado+haz/csaladi-haz/32092611&#34;&gt;https://ingatlan.com/paty/elado+haz/csaladi-haz/32092611&lt;/a&gt;&lt;/td&gt;&lt;/tr&gt;&lt;tr&gt;&lt;td&gt; 129 M Ft &lt;/td&gt;&lt;td&gt;&lt;a href=&#34;https://ingatlan.com/paty/elado+haz/csaladi-haz/32076383&#34;&gt;https://ingatlan.com/paty/elado+haz/csaladi-haz/32076383&lt;/a&gt;&lt;/td&gt;&lt;/tr&gt;&lt;tr&gt;&lt;td&gt; 120 M Ft &lt;/td&gt;&lt;td&gt;&lt;a href=&#34;https://ingatlan.com/paty/elado+haz/ikerhaz/29015996&#34;&gt;https://ingatlan.com/paty/elado+haz/ikerhaz/29015996&lt;/a&gt;&lt;/td&gt;&lt;/tr&gt;&lt;tr&gt;&lt;td&gt; 118.9 M Ft &lt;/td&gt;&lt;td&gt;&lt;a href=&#34;https://ingatlan.com/paty/elado+haz/csaladi-haz/31797199&#34;&gt;https://ingatlan.com/paty/elado+haz/csaladi-haz/31797199&lt;/a&gt;&lt;/td&gt;&lt;/tr&gt;&lt;tr&gt;&lt;td&gt; 118.9 M Ft &lt;/td&gt;&lt;td&gt;&lt;a href=&#34;https://ingatlan.com/paty-ofalu/elado+haz/csaladi-haz/32393095&#34;&gt;https://ingatlan.com/paty-ofalu/elado+haz/csaladi-haz/32393095&lt;/a&gt;&lt;/td&gt;&lt;/tr&gt;&lt;tr&gt;&lt;td&gt; 118.9 M Ft &lt;/td&gt;&lt;td&gt;&lt;a href=&#34;https://ingatlan.com/paty-ofalu/elado+haz/csaladi-haz/32393094&#34;&gt;https://ingatlan.com/paty-ofalu/elado+haz/csaladi-haz/32393094&lt;/a&gt;&lt;/td&gt;&lt;/tr&gt;&lt;tr&gt;&lt;td&gt; 118.9 M Ft &lt;/td&gt;&lt;td&gt;&lt;a href=&#34;https://ingatlan.com/paty/elado+haz/csaladi-haz/32232087&#34;&gt;https://ingatlan.com/paty/elado+haz/csaladi-haz/32232087&lt;/a&gt;&lt;/td&gt;&lt;/tr&gt;&lt;tr&gt;&lt;td&gt; 118.9 M Ft &lt;/td&gt;&lt;td&gt;&lt;a href=&#34;https://ingatlan.com/paty-kozpont/elado+haz/csaladi-haz/31760766&#34;&gt;https://ingatlan.com/paty-kozpont/elado+haz/csaladi-haz/31760766&lt;/a&gt;&lt;/td&gt;&lt;/tr&gt;&lt;tr&gt;&lt;td&gt; 99.9 M Ft &lt;/td&gt;&lt;td&gt;&lt;a href=&#34;https://ingatlan.com/paty/elado+haz/ikerhaz/32379578&#34;&gt;https://ingatlan.com/paty/elado+haz/ikerhaz/32379578&lt;/a&gt;&lt;/td&gt;&lt;/tr&gt;&lt;tr&gt;&lt;td&gt; 99.9 M Ft &lt;/td&gt;&lt;td&gt;&lt;a href=&#34;https://ingatlan.com/paty/elado+haz/ikerhaz/32198449&#34;&gt;https://ingatlan.com/paty/elado+haz/ikerhaz/32198449&lt;/a&gt;&lt;/td&gt;&lt;/tr&gt;&lt;tr&gt;&lt;td&gt; 99.9 M Ft &lt;/td&gt;&lt;td&gt;&lt;a href=&#34;https://ingatlan.com/paty-orgonas-lakopark/elado+haz/ikerhaz/32328284&#34;&gt;https://ingatlan.com/paty-orgonas-lakopark/elado+haz/ikerhaz/32328284&lt;/a&gt;&lt;/td&gt;&lt;/tr&gt;&lt;tr&gt;&lt;td&gt; 99.9 M Ft &lt;/td&gt;&lt;td&gt;&lt;a href=&#34;https://ingatlan.com/paty/elado+haz/ikerhaz/32324966&#34;&gt;https://ingatlan.com/paty/elado+haz/ikerhaz/32324966&lt;/a&gt;&lt;/td&gt;&lt;/tr&gt;&lt;tr&gt;&lt;td&gt; 99 M Ft &lt;/td&gt;&lt;td&gt;&lt;a href=&#34;https://ingatlan.com/paty/elado+haz/ikerhaz/32211116&#34;&gt;https://ingatlan.com/paty/elado+haz/ikerhaz/32211116&lt;/a&gt;&lt;/td&gt;&lt;/tr&gt;&lt;tr&gt;&lt;td&gt; 99 M Ft &lt;/td&gt;&lt;td&gt;&lt;a href=&#34;https://ingatlan.com/paty/elado+haz/ikerhaz/32257825&#34;&gt;https://ingatlan.com/paty/elado+haz/ikerhaz/32257825&lt;/a&gt;&lt;/td&gt;&lt;/tr&gt;&lt;tr&gt;&lt;td&gt; 98 M Ft &lt;/td&gt;&lt;td&gt;&lt;a href=&#34;https://ingatlan.com/paty/elado+haz/ikerhaz/32387422&#34;&gt;https://ingatlan.com/paty/elado+haz/ikerhaz/32387422&lt;/a&gt;&lt;/td&gt;&lt;/tr&gt;&lt;tr&gt;&lt;td&gt; 92.9 M Ft &lt;/td&gt;&lt;td&gt;&lt;a href=&#34;https://ingatlan.com/paty/elado+haz/csaladi-haz/32313429&#34;&gt;https://ingatlan.com/paty/elado+haz/csaladi-haz/32313429&lt;/a&gt;&lt;/td&gt;&lt;/tr&gt;&lt;tr&gt;&lt;td&gt; 92.9 M Ft &lt;/td&gt;&lt;td&gt;&lt;a href=&#34;https://ingatlan.com/paty/elado+haz/csaladi-haz/32435314&#34;&gt;https://ingatlan.com/paty/elado+haz/csaladi-haz/32435314&lt;/a&gt;&lt;/td&gt;&lt;/tr&gt;&lt;tr&gt;&lt;td&gt; 90 M Ft &lt;/td&gt;&lt;td&gt;&lt;a href=&#34;https://ingatlan.com/paty/elado+haz/csaladi-haz/32212574&#34;&gt;https://ingatlan.com/paty/elado+haz/csaladi-haz/32212574&lt;/a&gt;&lt;/td&gt;&lt;/tr&gt;&lt;tr&gt;&lt;td&gt; 89.94 M Ft &lt;/td&gt;&lt;td&gt;&lt;a href=&#34;https://ingatlan.com/paty-kozpont/elado+haz/csaladi-haz/32416332&#34;&gt;https://ingatlan.com/paty-kozpont/elado+haz/csaladi-haz/32416332&lt;/a&gt;&lt;/td&gt;&lt;/tr&gt;&lt;tr&gt;&lt;td&gt; 89.9 M Ft &lt;/td&gt;&lt;td&gt;&lt;a href=&#34;https://ingatlan.com/paty/elado+haz/ikerhaz/31825580&#34;&gt;https://ingatlan.com/paty/elado+haz/ikerhaz/31825580&lt;/a&gt;&lt;/td&gt;&lt;/tr&gt;&lt;tr&gt;&lt;td&gt; 89.9 M Ft &lt;/td&gt;&lt;td&gt;&lt;a href=&#34;https://ingatlan.com/paty-orgonas-lakopark/elado+haz/csaladi-haz/32412447&#34;&gt;https://ingatlan.com/paty-orgonas-lakopark/elado+haz/csaladi-haz/32412447&lt;/a&gt;&lt;/td&gt;&lt;/tr&gt;&lt;tr&gt;&lt;td&gt; 89 M Ft &lt;/td&gt;&lt;td&gt;&lt;a href=&#34;https://ingatlan.com/paty/elado+haz/csaladi-haz/32430637&#34;&gt;https://ingatlan.com/paty/elado+haz/csaladi-haz/32430637&lt;/a&gt;&lt;/td&gt;&lt;/tr&gt;&lt;tr&gt;&lt;td&gt; 89 M Ft &lt;/td&gt;&lt;td&gt;&lt;a href=&#34;https://ingatlan.com/paty/elado+haz/csaladi-haz/20284387&#34;&gt;https://ingatlan.com/paty/elado+haz/csaladi-haz/20284387&lt;/a&gt;&lt;/td&gt;&lt;/tr&gt;&lt;tr&gt;&lt;td&gt; 89 M Ft &lt;/td&gt;&lt;td&gt;&lt;a href=&#34;https://ingatlan.com/paty/elado+haz/csaladi-haz/32426257&#34;&gt;https://ingatlan.com/paty/elado+haz/csaladi-haz/32426257&lt;/a&gt;&lt;/td&gt;&lt;/tr&gt;&lt;tr&gt;&lt;td&gt; 86.9 M Ft &lt;/td&gt;&lt;td&gt;&lt;a href=&#34;https://ingatlan.com/paty/elado+haz/ikerhaz/32375998&#34;&gt;https://ingatlan.com/paty/elado+haz/ikerhaz/32375998&lt;/a&gt;&lt;/td&gt;&lt;/tr&gt;&lt;tr&gt;&lt;td&gt; 85.14 M Ft &lt;/td&gt;&lt;td&gt;&lt;a href=&#34;https://ingatlan.com/paty-kozpont/elado+haz/csaladi-haz/32411716&#34;&gt;https://ingatlan.com/paty-kozpont/elado+haz/csaladi-haz/32411716&lt;/a&gt;&lt;/td&gt;&lt;/tr&gt;&lt;tr&gt;&lt;td&gt; 82 M Ft &lt;/td&gt;&lt;td&gt;&lt;a href=&#34;https://ingatlan.com/paty/elado+haz/csaladi-haz/31924315&#34;&gt;https://ingatlan.com/paty/elado+haz/csaladi-haz/31924315&lt;/a&gt;&lt;/td&gt;&lt;/tr&gt;&lt;tr&gt;&lt;td&gt; 82 M Ft &lt;/td&gt;&lt;td&gt;&lt;a href=&#34;https://ingatlan.com/paty/elado+haz/csaladi-haz/31837813&#34;&gt;https://ingatlan.com/paty/elado+haz/csaladi-haz/31837813&lt;/a&gt;&lt;/td&gt;&lt;/tr&gt;&lt;tr&gt;&lt;td&gt; 81.6 M Ft &lt;/td&gt;&lt;td&gt;&lt;a href=&#34;https://ingatlan.com/paty/elado+haz/ikerhaz/25756292&#34;&gt;https://ingatlan.com/paty/elado+haz/ikerhaz/25756292&lt;/a&gt;&lt;/td&gt;&lt;/tr&gt;&lt;tr&gt;&lt;td&gt; 80 M Ft &lt;/td&gt;&lt;td&gt;&lt;a href=&#34;https://ingatlan.com/paty/elado+haz/csaladi-haz/32295110&#34;&gt;https://ingatlan.com/paty/elado+haz/csaladi-haz/32295110&lt;/a&gt;&lt;/td&gt;&lt;/tr&gt;&lt;tr&gt;&lt;td&gt; 79.9 M Ft &lt;/td&gt;&lt;td&gt;&lt;a href=&#34;https://ingatlan.com/paty/elado+haz/csaladi-haz/32368486&#34;&gt;https://ingatlan.com/paty/elado+haz/csaladi-haz/32368486&lt;/a&gt;&lt;/td&gt;&lt;/tr&gt;&lt;tr&gt;&lt;td&gt; 79.9 M Ft &lt;/td&gt;&lt;td&gt;&lt;a href=&#34;https://ingatlan.com/paty-kozpont/elado+haz/csaladi-haz/31534035&#34;&gt;https://ingatlan.com/paty-kozpont/elado+haz/csaladi-haz/31534035&lt;/a&gt;&lt;/td&gt;&lt;/tr&gt;&lt;tr&gt;&lt;td&gt; 79 M Ft &lt;/td&gt;&lt;td&gt;&lt;a href=&#34;https://ingatlan.com/paty/elado+haz/ikerhaz/32435316&#34;&gt;https://ingatlan.com/paty/elado+haz/ikerhaz/32435316&lt;/a&gt;&lt;/td&gt;&lt;/tr&gt;&lt;tr&gt;&lt;td&gt; 78 M Ft &lt;/td&gt;&lt;td&gt;&lt;a href=&#34;https://ingatlan.com/paty-kozpont/elado+haz/ikerhaz/32420895&#34;&gt;https://ingatlan.com/paty-kozpont/elado+haz/ikerhaz/32420895&lt;/a&gt;&lt;/td&gt;&lt;/tr&gt;&lt;tr&gt;&lt;td&gt; 78 M Ft &lt;/td&gt;&lt;td&gt;&lt;a href=&#34;https://ingatlan.com/paty/elado+haz/sorhaz/32331771&#34;&gt;https://ingatlan.com/paty/elado+haz/sorhaz/32331771&lt;/a&gt;&lt;/td&gt;&lt;/tr&gt;&lt;tr&gt;&lt;td&gt; 76.9 M Ft &lt;/td&gt;&lt;td&gt;&lt;a href=&#34;https://ingatlan.com/paty/elado+haz/ikerhaz/32372333&#34;&gt;https://ingatlan.com/paty/elado+haz/ikerhaz/32372333&lt;/a&gt;&lt;/td&gt;&lt;/tr&gt;&lt;tr&gt;&lt;td&gt; 75.05 M Ft &lt;/td&gt;&lt;td&gt;&lt;a href=&#34;https://ingatlan.com/paty-kozpont/elado+haz/csaladi-haz/32416699&#34;&gt;https://ingatlan.com/paty-kozpont/elado+haz/csaladi-haz/32416699&lt;/a&gt;&lt;/td&gt;&lt;/tr&gt;&lt;tr&gt;&lt;td&gt; 74.9 M Ft &lt;/td&gt;&lt;td&gt;&lt;a href=&#34;https://ingatlan.com/paty-jeneidomb/elado+haz/ikerhaz/32271467&#34;&gt;https://ingatlan.com/paty-jeneidomb/elado+haz/ikerhaz/32271467&lt;/a&gt;&lt;/td&gt;&lt;/tr&gt;&lt;tr&gt;&lt;td&gt; 74.5 M Ft &lt;/td&gt;&lt;td&gt;&lt;a href=&#34;https://ingatlan.com/paty-kozpont/elado+haz/csaladi-haz/32120274&#34;&gt;https://ingatlan.com/paty-kozpont/elado+haz/csaladi-haz/32120274&lt;/a&gt;&lt;/td&gt;&lt;/tr&gt;&lt;tr&gt;&lt;td&gt; 66.2 M Ft &lt;/td&gt;&lt;td&gt;&lt;a href=&#34;https://ingatlan.com/paty/elado+haz/csaladi-haz/32414774&#34;&gt;https://ingatlan.com/paty/elado+haz/csaladi-haz/32414774&lt;/a&gt;&lt;/td&gt;&lt;/tr&gt;&lt;tr&gt;&lt;td&gt; 66.2 M Ft &lt;/td&gt;&lt;td&gt;&lt;a href=&#34;https://ingatlan.com/paty/elado+haz/csaladi-haz/32414615&#34;&gt;https://ingatlan.com/paty/elado+haz/csaladi-haz/32414615&lt;/a&gt;&lt;/td&gt;&lt;/tr&gt;&lt;tr&gt;&lt;td&gt; 66.2 M Ft &lt;/td&gt;&lt;td&gt;&lt;a href=&#34;https://ingatlan.com/paty/elado+haz/csaladi-haz/32413666&#34;&gt;https://ingatlan.com/paty/elado+haz/csaladi-haz/32413666&lt;/a&gt;&lt;/td&gt;&lt;/tr&gt;&lt;tr&gt;&lt;td&gt; 66.2 M Ft &lt;/td&gt;&lt;td&gt;&lt;a href=&#34;https://ingatlan.com/paty/elado+haz/csaladi-haz/32413241&#34;&gt;https://ingatlan.com/paty/elado+haz/csaladi-haz/32413241&lt;/a&gt;&lt;/td&gt;&lt;/tr&gt;&lt;tr&gt;&lt;td&gt; 65.9 M Ft &lt;/td&gt;&lt;td&gt;&lt;a href=&#34;https://ingatlan.com/paty/elado+haz/csaladi-haz/32404430&#34;&gt;https://ingatlan.com/paty/elado+haz/csaladi-haz/32404430&lt;/a&gt;&lt;/td&gt;&lt;/tr&gt;&lt;tr&gt;&lt;td&gt; 64.9 M Ft &lt;/td&gt;&lt;td&gt;&lt;a href=&#34;https://ingatlan.com/paty/elado+haz/csaladi-haz/32339546&#34;&gt;https://ingatlan.com/paty/elado+haz/csaladi-haz/32339546&lt;/a&gt;&lt;/td&gt;&lt;/tr&gt;&lt;tr&gt;&lt;td&gt; 61.9 M Ft &lt;/td&gt;&lt;td&gt;&lt;a href=&#34;https://ingatlan.com/paty/elado+haz/ikerhaz/32095043&#34;&gt;https://ingatlan.com/paty/elado+haz/ikerhaz/32095043&lt;/a&gt;&lt;/td&gt;&lt;/tr&gt;&lt;tr&gt;&lt;td&gt; 59.5 M Ft &lt;/td&gt;&lt;td&gt;&lt;a href=&#34;https://ingatlan.com/paty/elado+haz/csaladi-haz/32173188&#34;&gt;https://ingatlan.com/paty/elado+haz/csaladi-haz/32173188&lt;/a&gt;&lt;/td&gt;&lt;/tr&gt;&lt;tr&gt;&lt;td&gt; 59.5 M Ft &lt;/td&gt;&lt;td&gt;&lt;a href=&#34;https://ingatlan.com/paty/elado+haz/csaladi-haz/32203470&#34;&gt;https://ingatlan.com/paty/elado+haz/csaladi-haz/32203470&lt;/a&gt;&lt;/td&gt;&lt;/tr&gt;&lt;tr&gt;&lt;td&gt; 59.5 M Ft &lt;/td&gt;&lt;td&gt;&lt;a href=&#34;https://ingatlan.com/paty/elado+haz/hazresz/32084317&#34;&gt;https://ingatlan.com/paty/elado+haz/hazresz/32084317&lt;/a&gt;&lt;/td&gt;&lt;/tr&gt;&lt;tr&gt;&lt;td&gt; 51.9 M Ft &lt;/td&gt;&lt;td&gt;&lt;a href=&#34;https://ingatlan.com/paty/elado+haz/csaladi-haz/32314976&#34;&gt;https://ingatlan.com/paty/elado+haz/csaladi-haz/32314976&lt;/a&gt;&lt;/td&gt;&lt;/tr&gt;&lt;tr&gt;&lt;td&gt; 49.5 M Ft &lt;/td&gt;&lt;td&gt;&lt;a href=&#34;https://ingatlan.com/paty/elado+haz/csaladi-haz/32360344&#34;&gt;https://ingatlan.com/paty/elado+haz/csaladi-haz/32360344&lt;/a&gt;&lt;/td&gt;&lt;/tr&gt;&lt;tr&gt;&lt;td&gt; 49.5 M Ft &lt;/td&gt;&lt;td&gt;&lt;a href=&#34;https://ingatlan.com/paty-zsambeki-kanyar/elado+haz/csaladi-haz/32128756&#34;&gt;https://ingatlan.com/paty-zsambeki-kanyar/elado+haz/csaladi-haz/32128756&lt;/a&gt;&lt;/td&gt;&lt;/tr&gt;&lt;tr&gt;&lt;td&gt; 49.5 M Ft &lt;/td&gt;&lt;td&gt;&lt;a href=&#34;https://ingatlan.com/paty/elado+haz/csaladi-haz/32131158&#34;&gt;https://ingatlan.com/paty/elado+haz/csaladi-haz/32131158&lt;/a&gt;&lt;/td&gt;&lt;/tr&gt;&lt;tr&gt;&lt;td&gt; 49.5 M Ft &lt;/td&gt;&lt;td&gt;&lt;a href=&#34;https://ingatlan.com/paty-kozpont/elado+haz/csaladi-haz/32217066&#34;&gt;https://ingatlan.com/paty-kozpont/elado+haz/csaladi-haz/32217066&lt;/a&gt;&lt;/td&gt;&lt;/tr&gt;&lt;tr&gt;&lt;td&gt; 49.5 M Ft &lt;/td&gt;&lt;td&gt;&lt;a href=&#34;https://ingatlan.com/paty-kozpont/elado+haz/csaladi-haz/32422423&#34;&gt;https://ingatlan.com/paty-kozpont/elado+haz/csaladi-haz/32422423&lt;/a&gt;&lt;/td&gt;&lt;/tr&gt;&lt;tr&gt;&lt;td&gt; 49.5 M Ft &lt;/td&gt;&lt;td&gt;&lt;a href=&#34;https://ingatlan.com/paty/elado+haz/csaladi-haz/32281499&#34;&gt;https://ingatlan.com/paty/elado+haz/csaladi-haz/32281499&lt;/a&gt;&lt;/td&gt;&lt;/tr&gt;&lt;tr&gt;&lt;td&gt; 49.5 M Ft &lt;/td&gt;&lt;td&gt;&lt;a href=&#34;https://ingatlan.com/paty-kozpont/elado+haz/csaladi-haz/32232200&#34;&gt;https://ingatlan.com/paty-kozpont/elado+haz/csaladi-haz/32232200&lt;/a&gt;&lt;/td&gt;&lt;/tr&gt;&lt;tr&gt;&lt;td&gt; 49.5 M Ft &lt;/td&gt;&lt;td&gt;&lt;a href=&#34;https://ingatlan.com/paty-ofalu/elado+haz/csaladi-haz/32129087&#34;&gt;https://ingatlan.com/paty-ofalu/elado+haz/csaladi-haz/32129087&lt;/a&gt;&lt;/td&gt;&lt;/tr&gt;&lt;tr&gt;&lt;td&gt; 49.5 M Ft &lt;/td&gt;&lt;td&gt;&lt;a href=&#34;https://ingatlan.com/paty-ofalu/elado+haz/csaladi-haz/32129085&#34;&gt;https://ingatlan.com/paty-ofalu/elado+haz/csaladi-haz/32129085&lt;/a&gt;&lt;/td&gt;&lt;/tr&gt;&lt;tr&gt;&lt;td&gt; 49 M Ft &lt;/td&gt;&lt;td&gt;&lt;a href=&#34;https://ingatlan.com/paty/elado+haz/csaladi-haz/32388852&#34;&gt;https://ingatlan.com/paty/elado+haz/csaladi-haz/32388852&lt;/a&gt;&lt;/td&gt;&lt;/tr&gt;&lt;tr&gt;&lt;td&gt; 46 M Ft &lt;/td&gt;&lt;td&gt;&lt;a href=&#34;https://ingatlan.com/paty/elado+haz/ikerhaz/31946503&#34;&gt;https://ingatlan.com/paty/elado+haz/ikerhaz/31946503&lt;/a&gt;&lt;/td&gt;&lt;/tr&gt;&lt;tr&gt;&lt;td&gt; 44.5 M Ft &lt;/td&gt;&lt;td&gt;&lt;a href=&#34;https://ingatlan.com/paty/elado+haz/csaladi-haz/32308751&#34;&gt;https://ingatlan.com/paty/elado+haz/csaladi-haz/32308751&lt;/a&gt;&lt;/td&gt;&lt;/tr&gt;&lt;tr&gt;&lt;td&gt; 34.9 M Ft &lt;/td&gt;&lt;td&gt;&lt;a href=&#34;https://ingatlan.com/paty-kozpont/elado+haz/csaladi-haz/32064223&#34;&gt;https://ingatlan.com/paty-kozpont/elado+haz/csaladi-haz/32064223&lt;/a&gt;&lt;/td&gt;&lt;/tr&gt;&lt;tr&gt;&lt;td&gt; 32.9 M Ft &lt;/td&gt;&lt;td&gt;&lt;a href=&#34;https://ingatlan.com/paty-mezeshegy/elado+haz/csaladi-haz/32257860&#34;&gt;https://ingatlan.com/paty-mezeshegy/elado+haz/csaladi-haz/32257860&lt;/a&gt;&lt;/td&gt;&lt;/tr&gt;&lt;tr&gt;&lt;td&gt; 27.9 M Ft &lt;/td&gt;&lt;td&gt;&lt;a href=&#34;https://ingatlan.com/paty-kozpont/elado+haz/csaladi-haz/32305768&#34;&gt;https://ingatlan.com/paty-kozpont/elado+haz/csaladi-haz/32305768&lt;/a&gt;&lt;/td&gt;&lt;/tr&gt;&lt;tr&gt;&lt;td&gt; 26.5 M Ft &lt;/td&gt;&lt;td&gt;&lt;a href=&#34;https://ingatlan.com/paty/elado+haz/csaladi-haz/32229955&#34;&gt;https://ingatlan.com/paty/elado+haz/csaladi-haz/32229955&lt;/a&gt;&lt;/td&gt;&lt;/tr&gt;&lt;tr&gt;&lt;td&gt; 17 M Ft &lt;/td&gt;&lt;td&gt;&lt;a href=&#34;https://ingatlan.com/paty/elado+haz/konnyuszerkezetes-haz/32356164&#34;&gt;https://ingatlan.com/paty/elado+haz/konnyuszerkezetes-haz/32356164&lt;/a&gt;&lt;/td&gt;&lt;/tr&gt;&lt;tr&gt;&lt;td&gt; 15 M Ft &lt;/td&gt;&lt;td&gt;&lt;a href=&#34;https://ingatlan.com/paty/elado+haz/csaladi-haz/26995204&#34;&gt;https://ingatlan.com/paty/elado+haz/csaladi-haz/26995204&lt;/a&gt;&lt;/td&gt;&lt;/tr&gt;&lt;tr&gt;&lt;td&gt; 13 M Ft &lt;/td&gt;&lt;td&gt;&lt;a href=&#34;https://ingatlan.com/paty/elado+haz/csaladi-haz/27265624&#34;&gt;https://ingatlan.com/paty/elado+haz/csaladi-haz/27265624&lt;/a&gt;&lt;/td&gt;&lt;/tr&gt;&lt;/table&gt;       \n",
              "        </div>\n",
              "    </body>\n",
              "</html>   \n",
              "\n"
            ],
            "text/plain": [
              "<IPython.core.display.HTML object>"
            ]
          },
          "metadata": {},
          "execution_count": 206
        }
      ]
    },
    {
      "cell_type": "code",
      "metadata": {
        "colab": {
          "base_uri": "https://localhost:8080/",
          "height": 146
        },
        "id": "ski4TV-_uU0o",
        "outputId": "8c4650ce-15cb-400a-fb05-744470268201"
      },
      "source": [
        "<link rel=\"stylesheet\" href=\"https://maxcdn.bootstrapcdn.com/bootstrap/4.0.0/css/bootstrap.min.css\" integrity=\"sha384-Gn5384xqQ1aoWXA+058RXPxPg6fy4IWvTNh0E263XmFcJlSAwiGgFAW/dAiS6JXm\" crossorigin=\"anonymous\">"
      ],
      "execution_count": 165,
      "outputs": [
        {
          "output_type": "error",
          "ename": "SyntaxError",
          "evalue": "ignored",
          "traceback": [
            "\u001b[0;36m  File \u001b[0;32m\"<ipython-input-165-1f87e7e35647>\"\u001b[0;36m, line \u001b[0;32m1\u001b[0m\n\u001b[0;31m    <link rel=\"stylesheet\" href=\"https://maxcdn.bootstrapcdn.com/bootstrap/4.0.0/css/bootstrap.min.css\" integrity=\"sha384-Gn5384xqQ1aoWXA+058RXPxPg6fy4IWvTNh0E263XmFcJlSAwiGgFAW/dAiS6JXm\" crossorigin=\"anonymous\">\u001b[0m\n\u001b[0m    ^\u001b[0m\n\u001b[0;31mSyntaxError\u001b[0m\u001b[0;31m:\u001b[0m invalid syntax\n"
          ]
        }
      ]
    },
    {
      "cell_type": "code",
      "metadata": {
        "colab": {
          "base_uri": "https://localhost:8080/",
          "height": 265
        },
        "id": "kJ3LojK413Bf",
        "outputId": "19ea31e4-4ec1-46da-86b0-c3d370386a83"
      },
      "source": [
        " render_template_string('hello {{ what }}', what='world')"
      ],
      "execution_count": 192,
      "outputs": [
        {
          "output_type": "error",
          "ename": "AttributeError",
          "evalue": "ignored",
          "traceback": [
            "\u001b[0;31m---------------------------------------------------------------------------\u001b[0m",
            "\u001b[0;31mAttributeError\u001b[0m                            Traceback (most recent call last)",
            "\u001b[0;32m<ipython-input-192-1a76c16c8d27>\u001b[0m in \u001b[0;36m<module>\u001b[0;34m()\u001b[0m\n\u001b[0;32m----> 1\u001b[0;31m \u001b[0mrender_template_string\u001b[0m\u001b[0;34m(\u001b[0m\u001b[0;34m'hello {{ what }}'\u001b[0m\u001b[0;34m,\u001b[0m \u001b[0mwhat\u001b[0m\u001b[0;34m=\u001b[0m\u001b[0;34m'world'\u001b[0m\u001b[0;34m)\u001b[0m\u001b[0;34m\u001b[0m\u001b[0;34m\u001b[0m\u001b[0m\n\u001b[0m",
            "\u001b[0;32m/usr/local/lib/python3.7/dist-packages/flask/templating.py\u001b[0m in \u001b[0;36mrender_template_string\u001b[0;34m(source, **context)\u001b[0m\n\u001b[1;32m    152\u001b[0m     \"\"\"\n\u001b[1;32m    153\u001b[0m     \u001b[0mctx\u001b[0m \u001b[0;34m=\u001b[0m \u001b[0m_app_ctx_stack\u001b[0m\u001b[0;34m.\u001b[0m\u001b[0mtop\u001b[0m\u001b[0;34m\u001b[0m\u001b[0;34m\u001b[0m\u001b[0m\n\u001b[0;32m--> 154\u001b[0;31m     \u001b[0mctx\u001b[0m\u001b[0;34m.\u001b[0m\u001b[0mapp\u001b[0m\u001b[0;34m.\u001b[0m\u001b[0mupdate_template_context\u001b[0m\u001b[0;34m(\u001b[0m\u001b[0mcontext\u001b[0m\u001b[0;34m)\u001b[0m\u001b[0;34m\u001b[0m\u001b[0;34m\u001b[0m\u001b[0m\n\u001b[0m\u001b[1;32m    155\u001b[0m     \u001b[0;32mreturn\u001b[0m \u001b[0m_render\u001b[0m\u001b[0;34m(\u001b[0m\u001b[0mctx\u001b[0m\u001b[0;34m.\u001b[0m\u001b[0mapp\u001b[0m\u001b[0;34m.\u001b[0m\u001b[0mjinja_env\u001b[0m\u001b[0;34m.\u001b[0m\u001b[0mfrom_string\u001b[0m\u001b[0;34m(\u001b[0m\u001b[0msource\u001b[0m\u001b[0;34m)\u001b[0m\u001b[0;34m,\u001b[0m \u001b[0mcontext\u001b[0m\u001b[0;34m,\u001b[0m \u001b[0mctx\u001b[0m\u001b[0;34m.\u001b[0m\u001b[0mapp\u001b[0m\u001b[0;34m)\u001b[0m\u001b[0;34m\u001b[0m\u001b[0;34m\u001b[0m\u001b[0m\n",
            "\u001b[0;31mAttributeError\u001b[0m: 'NoneType' object has no attribute 'app'"
          ]
        }
      ]
    },
    {
      "cell_type": "code",
      "metadata": {
        "colab": {
          "base_uri": "https://localhost:8080/",
          "height": 35
        },
        "id": "nJ05rRIW2dKS",
        "outputId": "5be4dfd6-947d-4564-e967-711be7830595"
      },
      "source": [
        "app.jinja_env.from_string('hello {{ what }}').render(what='world')"
      ],
      "execution_count": 193,
      "outputs": [
        {
          "output_type": "execute_result",
          "data": {
            "application/vnd.google.colaboratory.intrinsic+json": {
              "type": "string"
            },
            "text/plain": [
              "'hello world'"
            ]
          },
          "metadata": {},
          "execution_count": 193
        }
      ]
    }
  ]
}